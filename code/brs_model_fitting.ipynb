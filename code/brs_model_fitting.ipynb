{
 "cells": [
  {
   "cell_type": "markdown",
   "metadata": {},
   "source": [
    "## Booze R Us Model\n",
    "\n",
    "Fitting a model (or two) based on our proposal.\n",
    "\n",
    "- **Goal:** Build a model to predict sales in a month for any given store.\n",
    "- **Response Variable:** Monthly Sales\n",
    "- **Possible Features:** store, month, county, population stuff, proximity stuff, alcohol categories"
   ]
  },
  {
   "cell_type": "code",
   "execution_count": 42,
   "metadata": {},
   "outputs": [],
   "source": [
    "import duckdb as db \n",
    "con = db.connect()\n",
    "import pandas as pd \n",
    "pd.set_option('display.max_columns', None)\n",
    "import numpy as np\n",
    "import matplotlib.pyplot as plt\n",
    "import seaborn as sns"
   ]
  },
  {
   "cell_type": "code",
   "execution_count": 43,
   "metadata": {},
   "outputs": [],
   "source": [
    "# MAIN TABLE\n",
    "con.execute(\"\"\"\n",
    "        DROP TABLE IF EXISTS sales;\n",
    "        CREATE TABLE sales AS \n",
    "        SELECT EXTRACT(MONTH FROM date) AS month, EXTRACT (YEAR FROM date) AS year,\n",
    "            store, city, county, \n",
    "            category_name AS category, sale_bottles AS bottles, sale_dollars AS dollars\n",
    "        FROM read_parquet('../data/iowa_liquor_2023_2025.parquet');\n",
    "\"\"\")\n",
    "sales = con.execute(\"SELECT * FROM sales\").df()\n",
    "\n",
    "# POPULATION\n",
    "con.execute(\n",
    "\"\"\"\n",
    "        DROP TABLE IF EXISTS pop;\n",
    "        CREATE TABLE population AS\n",
    "        SELECT name AS county, year_1 AS year, popestimate AS population, over21, propOver21, median_age_tot AS median_age\n",
    "        FROM read_csv_auto('../data/pop.csv');\n",
    "\"\"\"\n",
    ")\n",
    "pop = con.execute(\"SELECT * FROM population\").df()\n",
    "\n",
    "# PROXIMITY\n",
    "con.execute(\n",
    "\"\"\"\n",
    "        DROP TABLE IF EXISTS prox;\n",
    "        CREATE TABLE proximity AS\n",
    "        SELECT *\n",
    "        FROM read_csv_auto('../data/proximity.csv');\n",
    "\"\"\"\n",
    ")\n",
    "prox = con.execute(\"SELECT * FROM proximity\").df()"
   ]
  },
  {
   "cell_type": "code",
   "execution_count": 44,
   "metadata": {},
   "outputs": [
    {
     "data": {
      "text/plain": [
       "Index(['month', 'year', 'store', 'city', 'county', 'category', 'bottles',\n",
       "       'dollars'],\n",
       "      dtype='object')"
      ]
     },
     "execution_count": 44,
     "metadata": {},
     "output_type": "execute_result"
    }
   ],
   "source": [
    "sales.columns"
   ]
  },
  {
   "cell_type": "markdown",
   "metadata": {},
   "source": [
    "## Creating the Dataset"
   ]
  },
  {
   "cell_type": "markdown",
   "metadata": {},
   "source": [
    "First, I am going to engineer the category column a little bit to use as features. Knowing which alcohol sells the best is could be useful for telling Booze R Us what they should buy in order to increase profits."
   ]
  },
  {
   "cell_type": "code",
   "execution_count": 45,
   "metadata": {},
   "outputs": [],
   "source": [
    "con.execute(\"\"\"\n",
    "    CREATE OR REPLACE TABLE sales AS\n",
    "    SELECT *,\n",
    "        CASE\n",
    "            WHEN category ILIKE '%VODKA%' THEN 'Vodka'\n",
    "            WHEN category ILIKE '%WHISK%' THEN 'Whiskey'\n",
    "            WHEN category ILIKE '%TEQUILA%' OR category ILIKE '%MEZCAL%' THEN 'Tequila'\n",
    "            WHEN category ILIKE '%RUM%' THEN 'Rum'\n",
    "            ELSE 'Other'\n",
    "        END AS super_category\n",
    "    FROM sales\n",
    "\"\"\")\n",
    "sales = con.execute(\"SELECT * FROM sales\").df()"
   ]
  },
  {
   "cell_type": "code",
   "execution_count": 46,
   "metadata": {},
   "outputs": [
    {
     "data": {
      "text/html": [
       "<div>\n",
       "<style scoped>\n",
       "    .dataframe tbody tr th:only-of-type {\n",
       "        vertical-align: middle;\n",
       "    }\n",
       "\n",
       "    .dataframe tbody tr th {\n",
       "        vertical-align: top;\n",
       "    }\n",
       "\n",
       "    .dataframe thead th {\n",
       "        text-align: right;\n",
       "    }\n",
       "</style>\n",
       "<table border=\"1\" class=\"dataframe\">\n",
       "  <thead>\n",
       "    <tr style=\"text-align: right;\">\n",
       "      <th></th>\n",
       "      <th>month</th>\n",
       "      <th>year</th>\n",
       "      <th>store</th>\n",
       "      <th>city</th>\n",
       "      <th>county</th>\n",
       "      <th>category</th>\n",
       "      <th>bottles</th>\n",
       "      <th>dollars</th>\n",
       "      <th>super_category</th>\n",
       "    </tr>\n",
       "  </thead>\n",
       "  <tbody>\n",
       "    <tr>\n",
       "      <th>0</th>\n",
       "      <td>1</td>\n",
       "      <td>2023</td>\n",
       "      <td>4829</td>\n",
       "      <td>DES MOINES</td>\n",
       "      <td>POLK</td>\n",
       "      <td>100% AGAVE TEQUILA</td>\n",
       "      <td>12</td>\n",
       "      <td>261.00</td>\n",
       "      <td>Tequila</td>\n",
       "    </tr>\n",
       "    <tr>\n",
       "      <th>1</th>\n",
       "      <td>1</td>\n",
       "      <td>2023</td>\n",
       "      <td>4829</td>\n",
       "      <td>DES MOINES</td>\n",
       "      <td>POLK</td>\n",
       "      <td>AMERICAN VODKAS</td>\n",
       "      <td>60</td>\n",
       "      <td>418.80</td>\n",
       "      <td>Vodka</td>\n",
       "    </tr>\n",
       "    <tr>\n",
       "      <th>2</th>\n",
       "      <td>1</td>\n",
       "      <td>2023</td>\n",
       "      <td>4829</td>\n",
       "      <td>DES MOINES</td>\n",
       "      <td>POLK</td>\n",
       "      <td>IMPORTED FLAVORED VODKA</td>\n",
       "      <td>24</td>\n",
       "      <td>358.56</td>\n",
       "      <td>Vodka</td>\n",
       "    </tr>\n",
       "    <tr>\n",
       "      <th>3</th>\n",
       "      <td>1</td>\n",
       "      <td>2023</td>\n",
       "      <td>4829</td>\n",
       "      <td>DES MOINES</td>\n",
       "      <td>POLK</td>\n",
       "      <td>CREAM LIQUEURS</td>\n",
       "      <td>12</td>\n",
       "      <td>306.00</td>\n",
       "      <td>Other</td>\n",
       "    </tr>\n",
       "    <tr>\n",
       "      <th>4</th>\n",
       "      <td>1</td>\n",
       "      <td>2023</td>\n",
       "      <td>4829</td>\n",
       "      <td>DES MOINES</td>\n",
       "      <td>POLK</td>\n",
       "      <td>SPICED RUM</td>\n",
       "      <td>60</td>\n",
       "      <td>1124.40</td>\n",
       "      <td>Rum</td>\n",
       "    </tr>\n",
       "  </tbody>\n",
       "</table>\n",
       "</div>"
      ],
      "text/plain": [
       "   month  year store        city county                 category  bottles  \\\n",
       "0      1  2023  4829  DES MOINES   POLK       100% AGAVE TEQUILA       12   \n",
       "1      1  2023  4829  DES MOINES   POLK          AMERICAN VODKAS       60   \n",
       "2      1  2023  4829  DES MOINES   POLK  IMPORTED FLAVORED VODKA       24   \n",
       "3      1  2023  4829  DES MOINES   POLK           CREAM LIQUEURS       12   \n",
       "4      1  2023  4829  DES MOINES   POLK               SPICED RUM       60   \n",
       "\n",
       "   dollars super_category  \n",
       "0   261.00        Tequila  \n",
       "1   418.80          Vodka  \n",
       "2   358.56          Vodka  \n",
       "3   306.00          Other  \n",
       "4  1124.40            Rum  "
      ]
     },
     "execution_count": 46,
     "metadata": {},
     "output_type": "execute_result"
    }
   ],
   "source": [
    "sales.head()"
   ]
  },
  {
   "cell_type": "markdown",
   "metadata": {},
   "source": [
    "Now I need to agreggate to create our appropriate observational units: monthly sales per store.\n",
    "\n",
    "- Dollars (our response variable) will be summed. \n",
    "- Category will be made into new columns representing the distribution of category sales\n",
    "    - e.g. 70% tequila, 20% vodkas, etc.\n",
    "    - we will not use total bottles because this would be almost perfectly collinear \n",
    "    - answer questions like: 'what liquor should we sell more/less of?'"
   ]
  },
  {
   "cell_type": "code",
   "execution_count": 47,
   "metadata": {},
   "outputs": [],
   "source": [
    "monthly_sales = con.execute(\n",
    "\"\"\" \n",
    "    WITH month_totals AS (\n",
    "        SELECT year, month, store, city, county,\n",
    "            SUM(dollars) AS revenue,\n",
    "        FROM sales\n",
    "        GROUP BY year, month, store, city, county\n",
    "    ), category_totals AS (\n",
    "        SELECT year, month, store, city, county,\n",
    "            super_category,\n",
    "            SUM(dollars) AS category_sales\n",
    "        FROM sales\n",
    "        GROUP BY year, month, store, city, county, super_category\n",
    "    )\n",
    "    SELECT mt.year, mt.month, mt.store, mt.city, mt.county,\n",
    "        ROUND((SUM(CASE WHEN ct.super_category = 'Vodka' THEN ct.category_sales ELSE 0 END) / mt.revenue),2) AS vodka_ptc,\n",
    "        ROUND((SUM(CASE WHEN ct.super_category = 'Whiskey' THEN ct.category_sales ELSE 0 END) / mt.revenue),2) AS whiskey_ptc,\n",
    "        ROUND((SUM(CASE WHEN ct.super_category = 'Tequila' THEN ct.category_sales ELSE 0 END) / mt.revenue),2) AS tequila_ptc,\n",
    "        ROUND((SUM(CASE WHEN ct.super_category = 'Rum' THEN ct.category_sales ELSE 0 END) / mt.revenue),2) AS rum_ptc,\n",
    "        ROUND((SUM(CASE WHEN ct.super_category = 'Other' THEN ct.category_sales ELSE 0 END) / mt.revenue),2) AS other_ptc,\n",
    "        mt.revenue\n",
    "    FROM month_totals mt\n",
    "    LEFT JOIN category_totals ct\n",
    "        ON mt.year = ct.year AND mt.month = ct.month \n",
    "            AND mt.city = ct.city AND mt.county = ct.county\n",
    "            AND mt.store = ct.store \n",
    "    GROUP BY mt.year, mt.month, mt.store, mt.city, mt.county, mt.revenue\n",
    "    \n",
    "\"\"\"\n",
    ").fetchdf()"
   ]
  },
  {
   "cell_type": "code",
   "execution_count": 48,
   "metadata": {},
   "outputs": [
    {
     "data": {
      "text/html": [
       "<div>\n",
       "<style scoped>\n",
       "    .dataframe tbody tr th:only-of-type {\n",
       "        vertical-align: middle;\n",
       "    }\n",
       "\n",
       "    .dataframe tbody tr th {\n",
       "        vertical-align: top;\n",
       "    }\n",
       "\n",
       "    .dataframe thead th {\n",
       "        text-align: right;\n",
       "    }\n",
       "</style>\n",
       "<table border=\"1\" class=\"dataframe\">\n",
       "  <thead>\n",
       "    <tr style=\"text-align: right;\">\n",
       "      <th></th>\n",
       "      <th>year</th>\n",
       "      <th>month</th>\n",
       "      <th>store</th>\n",
       "      <th>city</th>\n",
       "      <th>county</th>\n",
       "      <th>vodka_ptc</th>\n",
       "      <th>whiskey_ptc</th>\n",
       "      <th>tequila_ptc</th>\n",
       "      <th>rum_ptc</th>\n",
       "      <th>other_ptc</th>\n",
       "      <th>revenue</th>\n",
       "    </tr>\n",
       "  </thead>\n",
       "  <tbody>\n",
       "    <tr>\n",
       "      <th>0</th>\n",
       "      <td>2023</td>\n",
       "      <td>3</td>\n",
       "      <td>4873</td>\n",
       "      <td>GRANGER</td>\n",
       "      <td>DALLAS</td>\n",
       "      <td>0.20</td>\n",
       "      <td>0.58</td>\n",
       "      <td>0.05</td>\n",
       "      <td>0.12</td>\n",
       "      <td>0.05</td>\n",
       "      <td>6044.36</td>\n",
       "    </tr>\n",
       "    <tr>\n",
       "      <th>1</th>\n",
       "      <td>2023</td>\n",
       "      <td>3</td>\n",
       "      <td>4678</td>\n",
       "      <td>ADEL</td>\n",
       "      <td>DALLAS</td>\n",
       "      <td>0.22</td>\n",
       "      <td>0.44</td>\n",
       "      <td>0.02</td>\n",
       "      <td>0.18</td>\n",
       "      <td>0.14</td>\n",
       "      <td>44737.30</td>\n",
       "    </tr>\n",
       "  </tbody>\n",
       "</table>\n",
       "</div>"
      ],
      "text/plain": [
       "   year  month store     city  county  vodka_ptc  whiskey_ptc  tequila_ptc  \\\n",
       "0  2023      3  4873  GRANGER  DALLAS       0.20         0.58         0.05   \n",
       "1  2023      3  4678     ADEL  DALLAS       0.22         0.44         0.02   \n",
       "\n",
       "   rum_ptc  other_ptc   revenue  \n",
       "0     0.12       0.05   6044.36  \n",
       "1     0.18       0.14  44737.30  "
      ]
     },
     "execution_count": 48,
     "metadata": {},
     "output_type": "execute_result"
    }
   ],
   "source": [
    "monthly_sales.head(2)"
   ]
  },
  {
   "cell_type": "markdown",
   "metadata": {},
   "source": [
    "Now I will join with our other datasets, proximity and population. Using an inner join because it still leaves plenty of complete data for modelling. "
   ]
  },
  {
   "cell_type": "code",
   "execution_count": 59,
   "metadata": {},
   "outputs": [],
   "source": [
    "df = con.execute(\n",
    "    \"\"\"\n",
    "        SELECT sales.*, \n",
    "            pop.population, pop.over21, pop.propOver21, pop.median_age,\n",
    "            prox.\"# of stores within 5 mile radius\" AS stores_within_5_miles,\n",
    "            prox.\"Nearest other store (mi)\" AS nearest_store_miles\n",
    "        FROM monthly_sales sales\n",
    "        JOIN pop\n",
    "            ON LOWER(sales.county) = LOWER(pop.county) AND sales.year = pop.year\n",
    "        JOIN prox\n",
    "            ON sales.store = prox.store\n",
    "        \n",
    "    \"\"\"\n",
    "    ).fetchdf()"
   ]
  },
  {
   "cell_type": "code",
   "execution_count": 62,
   "metadata": {},
   "outputs": [],
   "source": [
    "df.to_csv('../data/brs_model_data.csv', index=False)"
   ]
  }
 ],
 "metadata": {
  "kernelspec": {
   "display_name": "Python 3",
   "language": "python",
   "name": "python3"
  },
  "language_info": {
   "codemirror_mode": {
    "name": "ipython",
    "version": 3
   },
   "file_extension": ".py",
   "mimetype": "text/x-python",
   "name": "python",
   "nbconvert_exporter": "python",
   "pygments_lexer": "ipython3",
   "version": "3.10.3"
  },
  "orig_nbformat": 4
 },
 "nbformat": 4,
 "nbformat_minor": 2
}
