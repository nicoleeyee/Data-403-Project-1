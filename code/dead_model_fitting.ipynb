{
 "cells": [
  {
   "cell_type": "markdown",
   "metadata": {},
   "source": [
    "## DEAD\n",
    "\n",
    "Fitting a model (or two) based on our proposal.\n",
    "\n",
    "- **Goal:** Build a model to predict sales in a month for any given store.\n",
    "- **Response Variable:** Monthly Sales\n",
    "- **Possible Features:** store, month, county, population stuff, proximity stuff, alcohol categories"
   ]
  },
  {
   "cell_type": "code",
   "metadata": {
    "ExecuteTime": {
     "end_time": "2025-10-09T04:29:11.074480Z",
     "start_time": "2025-10-09T04:29:10.979469Z"
    }
   },
   "source": [
    "import duckdb as db \n",
    "con = db.connect()\n",
    "import pandas as pd \n",
    "pd.set_option('display.max_columns', None)\n",
    "import numpy as np\n",
    "import matplotlib.pyplot as plt\n",
    "import seaborn as sns"
   ],
   "outputs": [],
   "execution_count": 2
  },
  {
   "cell_type": "code",
   "metadata": {
    "ExecuteTime": {
     "end_time": "2025-10-09T04:44:43.155008Z",
     "start_time": "2025-10-09T04:44:39.401666Z"
    }
   },
   "source": [
    "# MAIN TABLE\n",
    "con.execute(\"\"\"\n",
    "        DROP TABLE IF EXISTS sales;\n",
    "        CREATE TABLE sales AS \n",
    "        SELECT EXTRACT(MONTH FROM date) AS month, EXTRACT (YEAR FROM date) AS year,\n",
    "            store, city, county, \n",
    "            category_name AS category, sale_bottles AS bottles, sale_dollars AS dollars\n",
    "        FROM read_parquet('../data/iowa_liquor_2023_2025.parquet');\n",
    "\"\"\")\n",
    "sales = con.execute(\"SELECT * FROM sales\").df()\n",
    "\n",
    "# POPULATION\n",
    "con.execute(\n",
    "\"\"\"\n",
    "        DROP TABLE IF EXISTS population;\n",
    "        CREATE TABLE population AS\n",
    "        SELECT name AS county, year_1 AS year, popestimate AS population, over21, propOver21, median_age_tot AS median_age, (POPEST_MALE / (POPEST_FEM + POPEST_MALE)) AS pct_male\n",
    "        FROM read_csv_auto('../data/pop.csv');\n",
    "\"\"\"\n",
    ")\n",
    "pop = con.execute(\"SELECT * FROM population\").df()\n",
    "\n",
    "# PROXIMITY\n",
    "con.execute(\n",
    "\"\"\"\n",
    "        DROP TABLE IF EXISTS proximity;\n",
    "        CREATE TABLE proximity AS\n",
    "        SELECT county\n",
    "        FROM read_csv_auto('../data/proximity.csv');\n",
    "\"\"\"\n",
    ")\n",
    "prox = con.execute(\"SELECT * FROM proximity\").df()\n",
    "\n",
    "\n"
   ],
   "outputs": [],
   "execution_count": 39
  },
  {
   "metadata": {
    "ExecuteTime": {
     "end_time": "2025-10-09T06:40:23.684530Z",
     "start_time": "2025-10-09T06:40:23.666971Z"
    }
   },
   "cell_type": "code",
   "source": [
    "income = pd.read_csv(\"../data/HDPulse_data_export.csv\")\n",
    "\n",
    "income[\"County\"] = income[\"County\"].str.replace(r\"\\s+County$\", \"\", regex=True)\n",
    "income.rename(columns={\n",
    "    \"County\": \"county\",\n",
    "    \"Value (Dollars)\": \"median_income\"\n",
    "}, inplace=True)\n",
    "income[\"median_income\"] = income[\"median_income\"].str.replace(\",\", \"\").astype(float)\n",
    "\n",
    "income.head()"
   ],
   "outputs": [
    {
     "data": {
      "text/plain": [
       "      county     FIPS  median_income Rank within US (of 3141 counties)\n",
       "0  Appanoose  19007.0        51146.0                             2,607\n",
       "1    Audubon  19009.0        54152.0                             2,408\n",
       "2      Union  19175.0        56813.0                             2,202\n",
       "3  Jefferson  19101.0        56824.0                             2,201\n",
       "4    Decatur  19053.0        57146.0                             2,175"
      ],
      "text/html": [
       "<div>\n",
       "<style scoped>\n",
       "    .dataframe tbody tr th:only-of-type {\n",
       "        vertical-align: middle;\n",
       "    }\n",
       "\n",
       "    .dataframe tbody tr th {\n",
       "        vertical-align: top;\n",
       "    }\n",
       "\n",
       "    .dataframe thead th {\n",
       "        text-align: right;\n",
       "    }\n",
       "</style>\n",
       "<table border=\"1\" class=\"dataframe\">\n",
       "  <thead>\n",
       "    <tr style=\"text-align: right;\">\n",
       "      <th></th>\n",
       "      <th>county</th>\n",
       "      <th>FIPS</th>\n",
       "      <th>median_income</th>\n",
       "      <th>Rank within US (of 3141 counties)</th>\n",
       "    </tr>\n",
       "  </thead>\n",
       "  <tbody>\n",
       "    <tr>\n",
       "      <th>0</th>\n",
       "      <td>Appanoose</td>\n",
       "      <td>19007.0</td>\n",
       "      <td>51146.0</td>\n",
       "      <td>2,607</td>\n",
       "    </tr>\n",
       "    <tr>\n",
       "      <th>1</th>\n",
       "      <td>Audubon</td>\n",
       "      <td>19009.0</td>\n",
       "      <td>54152.0</td>\n",
       "      <td>2,408</td>\n",
       "    </tr>\n",
       "    <tr>\n",
       "      <th>2</th>\n",
       "      <td>Union</td>\n",
       "      <td>19175.0</td>\n",
       "      <td>56813.0</td>\n",
       "      <td>2,202</td>\n",
       "    </tr>\n",
       "    <tr>\n",
       "      <th>3</th>\n",
       "      <td>Jefferson</td>\n",
       "      <td>19101.0</td>\n",
       "      <td>56824.0</td>\n",
       "      <td>2,201</td>\n",
       "    </tr>\n",
       "    <tr>\n",
       "      <th>4</th>\n",
       "      <td>Decatur</td>\n",
       "      <td>19053.0</td>\n",
       "      <td>57146.0</td>\n",
       "      <td>2,175</td>\n",
       "    </tr>\n",
       "  </tbody>\n",
       "</table>\n",
       "</div>"
      ]
     },
     "execution_count": 191,
     "metadata": {},
     "output_type": "execute_result"
    }
   ],
   "execution_count": 191
  },
  {
   "metadata": {
    "ExecuteTime": {
     "end_time": "2025-10-09T04:45:15.411201Z",
     "start_time": "2025-10-09T04:45:15.403685Z"
    }
   },
   "cell_type": "code",
   "source": [
    "prox = pd.DataFrame(prox.value_counts())\n",
    "prox.rename(columns={'count': 'store_count'}, inplace=True)\n",
    "prox.reset_index(inplace=True)\n",
    "prox.head()"
   ],
   "outputs": [
    {
     "data": {
      "text/plain": [
       "            count\n",
       "county           \n",
       "POLK          317\n",
       "LINN          168\n",
       "SCOTT         112\n",
       "BLACK HAWK    108\n",
       "JOHNSON        93"
      ],
      "text/html": [
       "<div>\n",
       "<style scoped>\n",
       "    .dataframe tbody tr th:only-of-type {\n",
       "        vertical-align: middle;\n",
       "    }\n",
       "\n",
       "    .dataframe tbody tr th {\n",
       "        vertical-align: top;\n",
       "    }\n",
       "\n",
       "    .dataframe thead th {\n",
       "        text-align: right;\n",
       "    }\n",
       "</style>\n",
       "<table border=\"1\" class=\"dataframe\">\n",
       "  <thead>\n",
       "    <tr style=\"text-align: right;\">\n",
       "      <th></th>\n",
       "      <th>count</th>\n",
       "    </tr>\n",
       "    <tr>\n",
       "      <th>county</th>\n",
       "      <th></th>\n",
       "    </tr>\n",
       "  </thead>\n",
       "  <tbody>\n",
       "    <tr>\n",
       "      <th>POLK</th>\n",
       "      <td>317</td>\n",
       "    </tr>\n",
       "    <tr>\n",
       "      <th>LINN</th>\n",
       "      <td>168</td>\n",
       "    </tr>\n",
       "    <tr>\n",
       "      <th>SCOTT</th>\n",
       "      <td>112</td>\n",
       "    </tr>\n",
       "    <tr>\n",
       "      <th>BLACK HAWK</th>\n",
       "      <td>108</td>\n",
       "    </tr>\n",
       "    <tr>\n",
       "      <th>JOHNSON</th>\n",
       "      <td>93</td>\n",
       "    </tr>\n",
       "  </tbody>\n",
       "</table>\n",
       "</div>"
      ]
     },
     "execution_count": 40,
     "metadata": {},
     "output_type": "execute_result"
    }
   ],
   "execution_count": 40
  },
  {
   "cell_type": "code",
   "metadata": {
    "ExecuteTime": {
     "end_time": "2025-10-09T04:29:14.679324Z",
     "start_time": "2025-10-09T04:29:14.665663Z"
    }
   },
   "source": [
    "sales.columns"
   ],
   "outputs": [
    {
     "data": {
      "text/plain": [
       "Index(['month', 'year', 'store', 'city', 'county', 'category', 'bottles',\n",
       "       'dollars'],\n",
       "      dtype='object')"
      ]
     },
     "execution_count": 4,
     "metadata": {},
     "output_type": "execute_result"
    }
   ],
   "execution_count": 4
  },
  {
   "cell_type": "markdown",
   "metadata": {},
   "source": [
    "## Creating the Dataset"
   ]
  },
  {
   "cell_type": "markdown",
   "metadata": {},
   "source": [
    "First, I am going to engineer the category column a little bit to use as features. Knowing which alcohol sells the best is could be useful for telling Booze R Us what they should buy in order to increase profits."
   ]
  },
  {
   "cell_type": "code",
   "metadata": {
    "ExecuteTime": {
     "end_time": "2025-10-09T04:29:19.833427Z",
     "start_time": "2025-10-09T04:29:14.706898Z"
    }
   },
   "source": [
    "con.execute(\"\"\"\n",
    "    CREATE OR REPLACE TABLE sales AS\n",
    "    SELECT *,\n",
    "        CASE\n",
    "            WHEN category ILIKE '%VODKA%' THEN 'Vodka'\n",
    "            WHEN category ILIKE '%WHISK%' THEN 'Whiskey'\n",
    "            WHEN category ILIKE '%TEQUILA%' OR category ILIKE '%MEZCAL%' THEN 'Tequila'\n",
    "            WHEN category ILIKE '%RUM%' THEN 'Rum'\n",
    "            ELSE 'Other'\n",
    "        END AS super_category\n",
    "    FROM sales\n",
    "\"\"\")\n",
    "sales = con.execute(\"SELECT * FROM sales\").df()"
   ],
   "outputs": [],
   "execution_count": 5
  },
  {
   "cell_type": "code",
   "metadata": {
    "ExecuteTime": {
     "end_time": "2025-10-09T04:29:19.880249Z",
     "start_time": "2025-10-09T04:29:19.873684Z"
    }
   },
   "source": [
    "sales.head()"
   ],
   "outputs": [
    {
     "data": {
      "text/plain": [
       "   month  year store        city county                 category  bottles  \\\n",
       "0      1  2023  4829  DES MOINES   POLK       100% AGAVE TEQUILA       12   \n",
       "1      1  2023  4829  DES MOINES   POLK          AMERICAN VODKAS       60   \n",
       "2      1  2023  4829  DES MOINES   POLK  IMPORTED FLAVORED VODKA       24   \n",
       "3      1  2023  4829  DES MOINES   POLK           CREAM LIQUEURS       12   \n",
       "4      1  2023  4829  DES MOINES   POLK               SPICED RUM       60   \n",
       "\n",
       "   dollars super_category  \n",
       "0   261.00        Tequila  \n",
       "1   418.80          Vodka  \n",
       "2   358.56          Vodka  \n",
       "3   306.00          Other  \n",
       "4  1124.40            Rum  "
      ],
      "text/html": [
       "<div>\n",
       "<style scoped>\n",
       "    .dataframe tbody tr th:only-of-type {\n",
       "        vertical-align: middle;\n",
       "    }\n",
       "\n",
       "    .dataframe tbody tr th {\n",
       "        vertical-align: top;\n",
       "    }\n",
       "\n",
       "    .dataframe thead th {\n",
       "        text-align: right;\n",
       "    }\n",
       "</style>\n",
       "<table border=\"1\" class=\"dataframe\">\n",
       "  <thead>\n",
       "    <tr style=\"text-align: right;\">\n",
       "      <th></th>\n",
       "      <th>month</th>\n",
       "      <th>year</th>\n",
       "      <th>store</th>\n",
       "      <th>city</th>\n",
       "      <th>county</th>\n",
       "      <th>category</th>\n",
       "      <th>bottles</th>\n",
       "      <th>dollars</th>\n",
       "      <th>super_category</th>\n",
       "    </tr>\n",
       "  </thead>\n",
       "  <tbody>\n",
       "    <tr>\n",
       "      <th>0</th>\n",
       "      <td>1</td>\n",
       "      <td>2023</td>\n",
       "      <td>4829</td>\n",
       "      <td>DES MOINES</td>\n",
       "      <td>POLK</td>\n",
       "      <td>100% AGAVE TEQUILA</td>\n",
       "      <td>12</td>\n",
       "      <td>261.00</td>\n",
       "      <td>Tequila</td>\n",
       "    </tr>\n",
       "    <tr>\n",
       "      <th>1</th>\n",
       "      <td>1</td>\n",
       "      <td>2023</td>\n",
       "      <td>4829</td>\n",
       "      <td>DES MOINES</td>\n",
       "      <td>POLK</td>\n",
       "      <td>AMERICAN VODKAS</td>\n",
       "      <td>60</td>\n",
       "      <td>418.80</td>\n",
       "      <td>Vodka</td>\n",
       "    </tr>\n",
       "    <tr>\n",
       "      <th>2</th>\n",
       "      <td>1</td>\n",
       "      <td>2023</td>\n",
       "      <td>4829</td>\n",
       "      <td>DES MOINES</td>\n",
       "      <td>POLK</td>\n",
       "      <td>IMPORTED FLAVORED VODKA</td>\n",
       "      <td>24</td>\n",
       "      <td>358.56</td>\n",
       "      <td>Vodka</td>\n",
       "    </tr>\n",
       "    <tr>\n",
       "      <th>3</th>\n",
       "      <td>1</td>\n",
       "      <td>2023</td>\n",
       "      <td>4829</td>\n",
       "      <td>DES MOINES</td>\n",
       "      <td>POLK</td>\n",
       "      <td>CREAM LIQUEURS</td>\n",
       "      <td>12</td>\n",
       "      <td>306.00</td>\n",
       "      <td>Other</td>\n",
       "    </tr>\n",
       "    <tr>\n",
       "      <th>4</th>\n",
       "      <td>1</td>\n",
       "      <td>2023</td>\n",
       "      <td>4829</td>\n",
       "      <td>DES MOINES</td>\n",
       "      <td>POLK</td>\n",
       "      <td>SPICED RUM</td>\n",
       "      <td>60</td>\n",
       "      <td>1124.40</td>\n",
       "      <td>Rum</td>\n",
       "    </tr>\n",
       "  </tbody>\n",
       "</table>\n",
       "</div>"
      ]
     },
     "execution_count": 6,
     "metadata": {},
     "output_type": "execute_result"
    }
   ],
   "execution_count": 6
  },
  {
   "cell_type": "markdown",
   "metadata": {},
   "source": [
    "Now I need to agreggate to create our appropriate observational units: monthly sales per store.\n",
    "\n",
    "- Dollars (our response variable) will be summed. \n",
    "- Category will be made into new columns representing the distribution of category sales\n",
    "    - e.g. 70% tequila, 20% vodkas, etc.\n",
    "    - we will not use total bottles because this would be almost perfectly collinear \n",
    "    - answer questions like: 'what liquor should we sell more/less of?'"
   ]
  },
  {
   "cell_type": "code",
   "metadata": {
    "ExecuteTime": {
     "end_time": "2025-10-09T04:29:20.190396Z",
     "start_time": "2025-10-09T04:29:20.064380Z"
    }
   },
   "source": [
    "monthly_sales = con.execute(\n",
    "\"\"\"\n",
    "    WITH month_totals AS (\n",
    "        SELECT\n",
    "            year,\n",
    "            month,\n",
    "            county,\n",
    "            SUM(dollars) AS revenue\n",
    "        FROM sales\n",
    "        GROUP BY year, month, county\n",
    "    ), category_totals AS (\n",
    "        SELECT\n",
    "            year,\n",
    "            month,\n",
    "            county,\n",
    "            super_category,\n",
    "            SUM(dollars) AS category_sales\n",
    "        FROM sales\n",
    "        GROUP BY year, month, county, super_category\n",
    "    )\n",
    "    SELECT\n",
    "        mt.year,\n",
    "        mt.month,\n",
    "        mt.county,\n",
    "        ROUND(SUM(CASE WHEN ct.super_category = 'Vodka' THEN ct.category_sales ELSE 0 END) / mt.revenue, 2) AS vodka_ptc,\n",
    "        ROUND(SUM(CASE WHEN ct.super_category = 'Whiskey' THEN ct.category_sales ELSE 0 END) / mt.revenue, 2) AS whiskey_ptc,\n",
    "        ROUND(SUM(CASE WHEN ct.super_category = 'Tequila' THEN ct.category_sales ELSE 0 END) / mt.revenue, 2) AS tequila_ptc,\n",
    "        ROUND(SUM(CASE WHEN ct.super_category = 'Rum' THEN ct.category_sales ELSE 0 END) / mt.revenue, 2) AS rum_ptc,\n",
    "        ROUND(SUM(CASE WHEN ct.super_category = 'Other' THEN ct.category_sales ELSE 0 END) / mt.revenue, 2) AS other_ptc,\n",
    "        mt.revenue\n",
    "    FROM month_totals mt\n",
    "    LEFT JOIN category_totals ct\n",
    "        ON mt.year = ct.year\n",
    "        AND mt.month = ct.month\n",
    "        AND mt.county = ct.county\n",
    "    GROUP BY mt.year, mt.month, mt.county, mt.revenue\n",
    "\"\"\"\n",
    ").fetchdf()\n"
   ],
   "outputs": [],
   "execution_count": 7
  },
  {
   "cell_type": "code",
   "metadata": {
    "ExecuteTime": {
     "end_time": "2025-10-09T04:29:20.226108Z",
     "start_time": "2025-10-09T04:29:20.219970Z"
    }
   },
   "source": [
    "monthly_sales.head(2)"
   ],
   "outputs": [
    {
     "data": {
      "text/plain": [
       "   year  month  county  vodka_ptc  whiskey_ptc  tequila_ptc  rum_ptc  \\\n",
       "0  2023      3  HOWARD       0.22         0.39         0.03     0.11   \n",
       "1  2023      3  BREMER       0.21         0.42         0.05     0.13   \n",
       "\n",
       "   other_ptc    revenue  \n",
       "0       0.24   63183.04  \n",
       "1       0.19  173736.94  "
      ],
      "text/html": [
       "<div>\n",
       "<style scoped>\n",
       "    .dataframe tbody tr th:only-of-type {\n",
       "        vertical-align: middle;\n",
       "    }\n",
       "\n",
       "    .dataframe tbody tr th {\n",
       "        vertical-align: top;\n",
       "    }\n",
       "\n",
       "    .dataframe thead th {\n",
       "        text-align: right;\n",
       "    }\n",
       "</style>\n",
       "<table border=\"1\" class=\"dataframe\">\n",
       "  <thead>\n",
       "    <tr style=\"text-align: right;\">\n",
       "      <th></th>\n",
       "      <th>year</th>\n",
       "      <th>month</th>\n",
       "      <th>county</th>\n",
       "      <th>vodka_ptc</th>\n",
       "      <th>whiskey_ptc</th>\n",
       "      <th>tequila_ptc</th>\n",
       "      <th>rum_ptc</th>\n",
       "      <th>other_ptc</th>\n",
       "      <th>revenue</th>\n",
       "    </tr>\n",
       "  </thead>\n",
       "  <tbody>\n",
       "    <tr>\n",
       "      <th>0</th>\n",
       "      <td>2023</td>\n",
       "      <td>3</td>\n",
       "      <td>HOWARD</td>\n",
       "      <td>0.22</td>\n",
       "      <td>0.39</td>\n",
       "      <td>0.03</td>\n",
       "      <td>0.11</td>\n",
       "      <td>0.24</td>\n",
       "      <td>63183.04</td>\n",
       "    </tr>\n",
       "    <tr>\n",
       "      <th>1</th>\n",
       "      <td>2023</td>\n",
       "      <td>3</td>\n",
       "      <td>BREMER</td>\n",
       "      <td>0.21</td>\n",
       "      <td>0.42</td>\n",
       "      <td>0.05</td>\n",
       "      <td>0.13</td>\n",
       "      <td>0.19</td>\n",
       "      <td>173736.94</td>\n",
       "    </tr>\n",
       "  </tbody>\n",
       "</table>\n",
       "</div>"
      ]
     },
     "execution_count": 8,
     "metadata": {},
     "output_type": "execute_result"
    }
   ],
   "execution_count": 8
  },
  {
   "cell_type": "markdown",
   "metadata": {},
   "source": [
    "Now I will join with our other datasets, proximity and population. Using an inner join because it still leaves plenty of complete data for modelling. "
   ]
  },
  {
   "cell_type": "code",
   "metadata": {
    "ExecuteTime": {
     "end_time": "2025-10-09T06:40:36.107025Z",
     "start_time": "2025-10-09T06:40:36.092684Z"
    }
   },
   "source": [
    "df = con.execute(\n",
    "    \"\"\"\n",
    "        SELECT sales.*, \n",
    "            pop.population, pop.over21, pop.propOver21, pop.median_age, pop.pct_male, prox.store_count, income.median_income\n",
    "        FROM monthly_sales sales\n",
    "        JOIN pop\n",
    "            ON LOWER(sales.county) = LOWER(pop.county) AND sales.year = pop.year\n",
    "        JOIN prox\n",
    "            on LOWER(pop.county) = LOWER(prox.county)\n",
    "        JOIN income\n",
    "            on LOWER(pop.county) = LOWER(income.county)\n",
    "\n",
    "        \n",
    "    \"\"\"\n",
    "    ).fetchdf()"
   ],
   "outputs": [],
   "execution_count": 192
  },
  {
   "cell_type": "code",
   "metadata": {
    "ExecuteTime": {
     "end_time": "2025-10-09T06:40:37.579361Z",
     "start_time": "2025-10-09T06:40:37.572767Z"
    }
   },
   "source": [
    "df.head(2)"
   ],
   "outputs": [
    {
     "data": {
      "text/plain": [
       "   year  month  county  vodka_ptc  whiskey_ptc  tequila_ptc  rum_ptc  \\\n",
       "0  2023      3  HOWARD       0.22         0.39         0.03     0.11   \n",
       "1  2023      3  BREMER       0.21         0.42         0.05     0.13   \n",
       "\n",
       "   other_ptc    revenue  population  over21  propOver21  median_age  pct_male  \\\n",
       "0       0.24   63183.04        9357    7031    0.751416        41.2  0.505504   \n",
       "1       0.19  173736.94       25304   19650    0.776557        39.8  0.500356   \n",
       "\n",
       "   store_count  median_income  \n",
       "0           10        67336.0  \n",
       "1           16        83343.0  "
      ],
      "text/html": [
       "<div>\n",
       "<style scoped>\n",
       "    .dataframe tbody tr th:only-of-type {\n",
       "        vertical-align: middle;\n",
       "    }\n",
       "\n",
       "    .dataframe tbody tr th {\n",
       "        vertical-align: top;\n",
       "    }\n",
       "\n",
       "    .dataframe thead th {\n",
       "        text-align: right;\n",
       "    }\n",
       "</style>\n",
       "<table border=\"1\" class=\"dataframe\">\n",
       "  <thead>\n",
       "    <tr style=\"text-align: right;\">\n",
       "      <th></th>\n",
       "      <th>year</th>\n",
       "      <th>month</th>\n",
       "      <th>county</th>\n",
       "      <th>vodka_ptc</th>\n",
       "      <th>whiskey_ptc</th>\n",
       "      <th>tequila_ptc</th>\n",
       "      <th>rum_ptc</th>\n",
       "      <th>other_ptc</th>\n",
       "      <th>revenue</th>\n",
       "      <th>population</th>\n",
       "      <th>over21</th>\n",
       "      <th>propOver21</th>\n",
       "      <th>median_age</th>\n",
       "      <th>pct_male</th>\n",
       "      <th>store_count</th>\n",
       "      <th>median_income</th>\n",
       "    </tr>\n",
       "  </thead>\n",
       "  <tbody>\n",
       "    <tr>\n",
       "      <th>0</th>\n",
       "      <td>2023</td>\n",
       "      <td>3</td>\n",
       "      <td>HOWARD</td>\n",
       "      <td>0.22</td>\n",
       "      <td>0.39</td>\n",
       "      <td>0.03</td>\n",
       "      <td>0.11</td>\n",
       "      <td>0.24</td>\n",
       "      <td>63183.04</td>\n",
       "      <td>9357</td>\n",
       "      <td>7031</td>\n",
       "      <td>0.751416</td>\n",
       "      <td>41.2</td>\n",
       "      <td>0.505504</td>\n",
       "      <td>10</td>\n",
       "      <td>67336.0</td>\n",
       "    </tr>\n",
       "    <tr>\n",
       "      <th>1</th>\n",
       "      <td>2023</td>\n",
       "      <td>3</td>\n",
       "      <td>BREMER</td>\n",
       "      <td>0.21</td>\n",
       "      <td>0.42</td>\n",
       "      <td>0.05</td>\n",
       "      <td>0.13</td>\n",
       "      <td>0.19</td>\n",
       "      <td>173736.94</td>\n",
       "      <td>25304</td>\n",
       "      <td>19650</td>\n",
       "      <td>0.776557</td>\n",
       "      <td>39.8</td>\n",
       "      <td>0.500356</td>\n",
       "      <td>16</td>\n",
       "      <td>83343.0</td>\n",
       "    </tr>\n",
       "  </tbody>\n",
       "</table>\n",
       "</div>"
      ]
     },
     "execution_count": 193,
     "metadata": {},
     "output_type": "execute_result"
    }
   ],
   "execution_count": 193
  },
  {
   "cell_type": "markdown",
   "metadata": {},
   "source": [
    "Now encode month to use as a categorical feature:"
   ]
  },
  {
   "cell_type": "code",
   "metadata": {
    "ExecuteTime": {
     "end_time": "2025-10-09T06:40:39.238182Z",
     "start_time": "2025-10-09T06:40:39.227054Z"
    }
   },
   "source": [
    "months = pd.get_dummies(df.month, prefix='month', drop_first=True)\n",
    "df = pd.concat([df.drop(columns='month'), months], axis=1)\n",
    "df.head()"
   ],
   "outputs": [
    {
     "data": {
      "text/plain": [
       "   year    county  vodka_ptc  whiskey_ptc  tequila_ptc  rum_ptc  other_ptc  \\\n",
       "0  2023    HOWARD       0.22         0.39         0.03     0.11       0.24   \n",
       "1  2023    BREMER       0.21         0.42         0.05     0.13       0.19   \n",
       "2  2023   HANCOCK       0.26         0.45         0.03     0.09       0.17   \n",
       "3  2023  RINGGOLD       0.16         0.55         0.03     0.04       0.21   \n",
       "4  2023   HANCOCK       0.28         0.41         0.02     0.09       0.19   \n",
       "\n",
       "     revenue  population  over21  propOver21  median_age  pct_male  \\\n",
       "0   63183.04        9357    7031    0.751416        41.2  0.505504   \n",
       "1  173736.94       25304   19650    0.776557        39.8  0.500356   \n",
       "2   60634.91       10631    8343    0.784780        43.9  0.505785   \n",
       "3   17068.38        4646    3594    0.773569        44.1  0.499570   \n",
       "4   50004.69       10631    8343    0.784780        43.9  0.505785   \n",
       "\n",
       "   store_count  median_income  month_2  month_3  month_4  month_5  month_6  \\\n",
       "0           10        67336.0    False     True    False    False    False   \n",
       "1           16        83343.0    False     True    False    False    False   \n",
       "2            8        70212.0    False     True    False    False    False   \n",
       "3            2        69821.0    False     True    False    False    False   \n",
       "4            8        70212.0    False    False    False    False    False   \n",
       "\n",
       "   month_7  month_8  month_9  month_10  month_11  month_12  \n",
       "0    False    False    False     False     False     False  \n",
       "1    False    False    False     False     False     False  \n",
       "2    False    False    False     False     False     False  \n",
       "3    False    False    False     False     False     False  \n",
       "4     True    False    False     False     False     False  "
      ],
      "text/html": [
       "<div>\n",
       "<style scoped>\n",
       "    .dataframe tbody tr th:only-of-type {\n",
       "        vertical-align: middle;\n",
       "    }\n",
       "\n",
       "    .dataframe tbody tr th {\n",
       "        vertical-align: top;\n",
       "    }\n",
       "\n",
       "    .dataframe thead th {\n",
       "        text-align: right;\n",
       "    }\n",
       "</style>\n",
       "<table border=\"1\" class=\"dataframe\">\n",
       "  <thead>\n",
       "    <tr style=\"text-align: right;\">\n",
       "      <th></th>\n",
       "      <th>year</th>\n",
       "      <th>county</th>\n",
       "      <th>vodka_ptc</th>\n",
       "      <th>whiskey_ptc</th>\n",
       "      <th>tequila_ptc</th>\n",
       "      <th>rum_ptc</th>\n",
       "      <th>other_ptc</th>\n",
       "      <th>revenue</th>\n",
       "      <th>population</th>\n",
       "      <th>over21</th>\n",
       "      <th>propOver21</th>\n",
       "      <th>median_age</th>\n",
       "      <th>pct_male</th>\n",
       "      <th>store_count</th>\n",
       "      <th>median_income</th>\n",
       "      <th>month_2</th>\n",
       "      <th>month_3</th>\n",
       "      <th>month_4</th>\n",
       "      <th>month_5</th>\n",
       "      <th>month_6</th>\n",
       "      <th>month_7</th>\n",
       "      <th>month_8</th>\n",
       "      <th>month_9</th>\n",
       "      <th>month_10</th>\n",
       "      <th>month_11</th>\n",
       "      <th>month_12</th>\n",
       "    </tr>\n",
       "  </thead>\n",
       "  <tbody>\n",
       "    <tr>\n",
       "      <th>0</th>\n",
       "      <td>2023</td>\n",
       "      <td>HOWARD</td>\n",
       "      <td>0.22</td>\n",
       "      <td>0.39</td>\n",
       "      <td>0.03</td>\n",
       "      <td>0.11</td>\n",
       "      <td>0.24</td>\n",
       "      <td>63183.04</td>\n",
       "      <td>9357</td>\n",
       "      <td>7031</td>\n",
       "      <td>0.751416</td>\n",
       "      <td>41.2</td>\n",
       "      <td>0.505504</td>\n",
       "      <td>10</td>\n",
       "      <td>67336.0</td>\n",
       "      <td>False</td>\n",
       "      <td>True</td>\n",
       "      <td>False</td>\n",
       "      <td>False</td>\n",
       "      <td>False</td>\n",
       "      <td>False</td>\n",
       "      <td>False</td>\n",
       "      <td>False</td>\n",
       "      <td>False</td>\n",
       "      <td>False</td>\n",
       "      <td>False</td>\n",
       "    </tr>\n",
       "    <tr>\n",
       "      <th>1</th>\n",
       "      <td>2023</td>\n",
       "      <td>BREMER</td>\n",
       "      <td>0.21</td>\n",
       "      <td>0.42</td>\n",
       "      <td>0.05</td>\n",
       "      <td>0.13</td>\n",
       "      <td>0.19</td>\n",
       "      <td>173736.94</td>\n",
       "      <td>25304</td>\n",
       "      <td>19650</td>\n",
       "      <td>0.776557</td>\n",
       "      <td>39.8</td>\n",
       "      <td>0.500356</td>\n",
       "      <td>16</td>\n",
       "      <td>83343.0</td>\n",
       "      <td>False</td>\n",
       "      <td>True</td>\n",
       "      <td>False</td>\n",
       "      <td>False</td>\n",
       "      <td>False</td>\n",
       "      <td>False</td>\n",
       "      <td>False</td>\n",
       "      <td>False</td>\n",
       "      <td>False</td>\n",
       "      <td>False</td>\n",
       "      <td>False</td>\n",
       "    </tr>\n",
       "    <tr>\n",
       "      <th>2</th>\n",
       "      <td>2023</td>\n",
       "      <td>HANCOCK</td>\n",
       "      <td>0.26</td>\n",
       "      <td>0.45</td>\n",
       "      <td>0.03</td>\n",
       "      <td>0.09</td>\n",
       "      <td>0.17</td>\n",
       "      <td>60634.91</td>\n",
       "      <td>10631</td>\n",
       "      <td>8343</td>\n",
       "      <td>0.784780</td>\n",
       "      <td>43.9</td>\n",
       "      <td>0.505785</td>\n",
       "      <td>8</td>\n",
       "      <td>70212.0</td>\n",
       "      <td>False</td>\n",
       "      <td>True</td>\n",
       "      <td>False</td>\n",
       "      <td>False</td>\n",
       "      <td>False</td>\n",
       "      <td>False</td>\n",
       "      <td>False</td>\n",
       "      <td>False</td>\n",
       "      <td>False</td>\n",
       "      <td>False</td>\n",
       "      <td>False</td>\n",
       "    </tr>\n",
       "    <tr>\n",
       "      <th>3</th>\n",
       "      <td>2023</td>\n",
       "      <td>RINGGOLD</td>\n",
       "      <td>0.16</td>\n",
       "      <td>0.55</td>\n",
       "      <td>0.03</td>\n",
       "      <td>0.04</td>\n",
       "      <td>0.21</td>\n",
       "      <td>17068.38</td>\n",
       "      <td>4646</td>\n",
       "      <td>3594</td>\n",
       "      <td>0.773569</td>\n",
       "      <td>44.1</td>\n",
       "      <td>0.499570</td>\n",
       "      <td>2</td>\n",
       "      <td>69821.0</td>\n",
       "      <td>False</td>\n",
       "      <td>True</td>\n",
       "      <td>False</td>\n",
       "      <td>False</td>\n",
       "      <td>False</td>\n",
       "      <td>False</td>\n",
       "      <td>False</td>\n",
       "      <td>False</td>\n",
       "      <td>False</td>\n",
       "      <td>False</td>\n",
       "      <td>False</td>\n",
       "    </tr>\n",
       "    <tr>\n",
       "      <th>4</th>\n",
       "      <td>2023</td>\n",
       "      <td>HANCOCK</td>\n",
       "      <td>0.28</td>\n",
       "      <td>0.41</td>\n",
       "      <td>0.02</td>\n",
       "      <td>0.09</td>\n",
       "      <td>0.19</td>\n",
       "      <td>50004.69</td>\n",
       "      <td>10631</td>\n",
       "      <td>8343</td>\n",
       "      <td>0.784780</td>\n",
       "      <td>43.9</td>\n",
       "      <td>0.505785</td>\n",
       "      <td>8</td>\n",
       "      <td>70212.0</td>\n",
       "      <td>False</td>\n",
       "      <td>False</td>\n",
       "      <td>False</td>\n",
       "      <td>False</td>\n",
       "      <td>False</td>\n",
       "      <td>True</td>\n",
       "      <td>False</td>\n",
       "      <td>False</td>\n",
       "      <td>False</td>\n",
       "      <td>False</td>\n",
       "      <td>False</td>\n",
       "    </tr>\n",
       "  </tbody>\n",
       "</table>\n",
       "</div>"
      ]
     },
     "execution_count": 194,
     "metadata": {},
     "output_type": "execute_result"
    }
   ],
   "execution_count": 194
  },
  {
   "cell_type": "code",
   "metadata": {
    "ExecuteTime": {
     "end_time": "2025-10-09T06:40:41.080241Z",
     "start_time": "2025-10-09T06:40:41.057454Z"
    }
   },
   "source": [
    "df = df.copy()\n",
    "df['revenue'] = pd.to_numeric(df['revenue'], errors='coerce')\n",
    "df = df[df['revenue'] > 0]   \n",
    "df.to_csv('../data/dead_model_data.csv', index=False)"
   ],
   "outputs": [],
   "execution_count": 195
  },
  {
   "cell_type": "markdown",
   "metadata": {},
   "source": [
    "## Linear Regression (from scratch)"
   ]
  },
  {
   "cell_type": "markdown",
   "metadata": {},
   "source": [
    "First, the function to fit the model. It will take observed X and Y matrices and return the predictions and estimators."
   ]
  },
  {
   "cell_type": "code",
   "metadata": {
    "ExecuteTime": {
     "end_time": "2025-10-09T04:29:20.600241Z",
     "start_time": "2025-10-09T04:29:20.597992Z"
    }
   },
   "source": [
    "def fit_lr(X, Y):\n",
    "    \n",
    "    X = np.column_stack([np.ones((X.shape[0], 1)), X.astype(float)]) # add column of ones\n",
    "    B = np.linalg.pinv(X.T @ X) @ X.T @ Y\n",
    "\n",
    "    return B"
   ],
   "outputs": [],
   "execution_count": 13
  },
  {
   "cell_type": "code",
   "metadata": {
    "ExecuteTime": {
     "end_time": "2025-10-09T04:29:20.636449Z",
     "start_time": "2025-10-09T04:29:20.633888Z"
    }
   },
   "source": [
    "def predict_lr(X, B):\n",
    "    \n",
    "    X = np.column_stack([np.ones((X.shape[0], 1)), X.astype(float)]) # add column of ones\n",
    "    Y_hat = X @ B\n",
    "\n",
    "    return Y_hat"
   ],
   "outputs": [],
   "execution_count": 14
  },
  {
   "cell_type": "markdown",
   "metadata": {},
   "source": [
    "A cross validation function:"
   ]
  },
  {
   "cell_type": "code",
   "metadata": {
    "ExecuteTime": {
     "end_time": "2025-10-09T04:29:20.670727Z",
     "start_time": "2025-10-09T04:29:20.668023Z"
    }
   },
   "source": [
    "def lr_cross_val(data, features, response, k=5):\n",
    "\n",
    "    # make k folds\n",
    "    n = data.shape[0]\n",
    "    indices = np.arange(n)\n",
    "    np.random.shuffle(indices)\n",
    "    fold_size = n // k\n",
    "    folds = [indices[i*fold_size:(i+1)*fold_size] for i in range(k-1)]\n",
    "    folds.append(indices[(k-1)*fold_size:])  # last fold gets the remainder\n",
    "\n",
    "    # loop over folds and store their predictions\n",
    "    predictions = np.zeros(n)\n",
    "    for fold_idx in folds:\n",
    "        # training indices = everything not in this fold\n",
    "        train_idx = np.setdiff1d(indices, fold_idx)\n",
    "        test_idx = fold_idx\n",
    "\n",
    "        train = data.iloc[train_idx]\n",
    "        test = data.iloc[test_idx]\n",
    "\n",
    "        # fit model\n",
    "        B = fit_lr(train[features].values, train[response].values)\n",
    "\n",
    "        # predict on test set\n",
    "        Y_hat = predict_lr(test[features].values, B)\n",
    "\n",
    "        predictions[test_idx] = Y_hat\n",
    "\n",
    "    return predictions\n"
   ],
   "outputs": [],
   "execution_count": 15
  },
  {
   "cell_type": "markdown",
   "metadata": {},
   "source": [
    "Fit the model:\n",
    "\n",
    "- *NOTE:* I first fit with all possible features, then after assessing model fit, feature importance, and multicollinearity (all below), I came back up and changed the features. So this is just the final model here, not all iterations."
   ]
  },
  {
   "metadata": {},
   "cell_type": "code",
   "outputs": [],
   "execution_count": null,
   "source": "df[\"store_ratio\"] = df[\"store_count\"] / df[\"over21\"]\n"
  },
  {
   "cell_type": "code",
   "metadata": {
    "ExecuteTime": {
     "end_time": "2025-10-09T06:43:38.506685Z",
     "start_time": "2025-10-09T06:43:38.492368Z"
    }
   },
   "source": [
    "features = ['month_5','month_6','month_11',\n",
    "        'propOver21', 'median_age', 'pct_male', 'store_count', 'median_income']\n",
    "df['log_revenue'] = np.log(df['revenue'])\n",
    "response = 'log_revenue'\n",
    "\n",
    "# fit\n",
    "Yhat = lr_cross_val(df, features, response, 5)"
   ],
   "outputs": [],
   "execution_count": 211
  },
  {
   "cell_type": "markdown",
   "metadata": {},
   "source": [
    " Assess model fit:"
   ]
  },
  {
   "cell_type": "code",
   "metadata": {
    "ExecuteTime": {
     "end_time": "2025-10-09T06:43:39.418809Z",
     "start_time": "2025-10-09T06:43:39.412716Z"
    }
   },
   "source": [
    "Y = df[response].values\n",
    "X = df[features].values\n",
    "RSS = np.sum((Y - Yhat)**2)\n",
    "TSS = np.sum((Y - np.mean(Y))**2)\n",
    "R2 = 1 - RSS/TSS\n",
    "n, p = X.shape  # after adding intercept\n",
    "adj_R2 = 1 - (1 - R2) * (n - 1) / (n - p)\n",
    "MAE = np.mean(np.abs(Y - Yhat))\n",
    "RMSE = np.sqrt(RSS / n)\n",
    "\n",
    "print(f\"R2 = {R2:.4f}\")\n",
    "print(f\"Adjusted R2 = {adj_R2:.4f}\")\n",
    "print(f\"MAE = {MAE:.2f}\")\n",
    "print(f\"RMSE = {RMSE:.2f}\")"
   ],
   "outputs": [
    {
     "name": "stdout",
     "output_type": "stream",
     "text": [
      "R2 = 0.6224\n",
      "Adjusted R2 = 0.6212\n",
      "MAE = 0.60\n",
      "RMSE = 0.76\n"
     ]
    }
   ],
   "execution_count": 212
  },
  {
   "cell_type": "markdown",
   "metadata": {},
   "source": [
    "Fit the finalized model now on all the data and look at the estimators:"
   ]
  },
  {
   "cell_type": "code",
   "metadata": {
    "ExecuteTime": {
     "end_time": "2025-10-09T05:58:19.921023Z",
     "start_time": "2025-10-09T05:58:19.916256Z"
    }
   },
   "source": [
    "# fit a final model on all the data\n",
    "B_final = fit_lr(X, Y)"
   ],
   "outputs": [],
   "execution_count": 149
  },
  {
   "cell_type": "code",
   "metadata": {
    "ExecuteTime": {
     "end_time": "2025-10-09T05:58:21.370435Z",
     "start_time": "2025-10-09T05:58:21.364611Z"
    }
   },
   "source": [
    "coef_names = ['intercept'] + list(df[features].columns)\n",
    "nonstd_df = pd.DataFrame({\n",
    "    'feature': coef_names,\n",
    "    'beta': B_final\n",
    "})\n",
    "nonstd_df = nonstd_df[nonstd_df['feature'] != 'intercept']\n",
    "nonstd_df = nonstd_df.reindex(\n",
    "    nonstd_df['beta'].abs().sort_values(ascending=False).index\n",
    ")\n",
    "print(nonstd_df)"
   ],
   "outputs": [
    {
     "name": "stdout",
     "output_type": "stream",
     "text": [
      "       feature      beta\n",
      "6     pct_male -8.936625\n",
      "4   propOver21  6.286309\n",
      "8         POLK -6.017989\n",
      "3     month_11  0.130215\n",
      "1      month_5  0.103540\n",
      "2      month_6  0.083750\n",
      "5   median_age -0.056131\n",
      "7  store_count  0.033682\n"
     ]
    }
   ],
   "execution_count": 150
  }
 ],
 "metadata": {
  "kernelspec": {
   "display_name": "Python 3",
   "language": "python",
   "name": "python3"
  },
  "language_info": {
   "codemirror_mode": {
    "name": "ipython",
    "version": 3
   },
   "file_extension": ".py",
   "mimetype": "text/x-python",
   "name": "python",
   "nbconvert_exporter": "python",
   "pygments_lexer": "ipython3",
   "version": "3.10.3"
  },
  "orig_nbformat": 4
 },
 "nbformat": 4,
 "nbformat_minor": 2
}
