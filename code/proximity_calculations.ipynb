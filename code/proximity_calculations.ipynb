{
 "cells": [
  {
   "cell_type": "code",
   "id": "initial_id",
   "metadata": {
    "collapsed": true,
    "ExecuteTime": {
     "end_time": "2025-10-15T17:12:36.542692Z",
     "start_time": "2025-10-15T17:12:36.478732Z"
    }
   },
   "source": [
    "import pandas as pd\n",
    "from geopy.distance import geodesic\n",
    "import numpy as np"
   ],
   "outputs": [],
   "execution_count": 1
  },
  {
   "cell_type": "code",
   "id": "7a8406c65d6128fc",
   "metadata": {
    "ExecuteTime": {
     "end_time": "2025-10-15T17:12:40.396687Z",
     "start_time": "2025-10-15T17:12:36.663131Z"
    }
   },
   "source": [
    "df = pd.read_parquet(\"../data/iowa_liquor_2023_2025.parquet\", columns=['store', 'store_location', 'county'])\n",
    "df = df.dropna(subset=[\"store_location\"]).drop_duplicates(subset=[\"store\"])\n",
    "df.head()"
   ],
   "outputs": [
    {
     "data": {
      "text/plain": [
       "    store                                     store_location county\n",
       "0    4829  {'coordinates': [-93.61378, 41.60575], 'type':...   POLK\n",
       "30   2190  {'coordinates': [-93.61979, 41.60558], 'type':...   POLK\n",
       "80   2666  {'coordinates': [-93.62173, 41.70471], 'type':...   POLK\n",
       "100  2699  {'coordinates': [-93.62362, 41.70324], 'type':...   POLK\n",
       "118  6245  {'coordinates': [-93.58545, 41.73189], 'type':...   POLK"
      ],
      "text/html": [
       "<div>\n",
       "<style scoped>\n",
       "    .dataframe tbody tr th:only-of-type {\n",
       "        vertical-align: middle;\n",
       "    }\n",
       "\n",
       "    .dataframe tbody tr th {\n",
       "        vertical-align: top;\n",
       "    }\n",
       "\n",
       "    .dataframe thead th {\n",
       "        text-align: right;\n",
       "    }\n",
       "</style>\n",
       "<table border=\"1\" class=\"dataframe\">\n",
       "  <thead>\n",
       "    <tr style=\"text-align: right;\">\n",
       "      <th></th>\n",
       "      <th>store</th>\n",
       "      <th>store_location</th>\n",
       "      <th>county</th>\n",
       "    </tr>\n",
       "  </thead>\n",
       "  <tbody>\n",
       "    <tr>\n",
       "      <th>0</th>\n",
       "      <td>4829</td>\n",
       "      <td>{'coordinates': [-93.61378, 41.60575], 'type':...</td>\n",
       "      <td>POLK</td>\n",
       "    </tr>\n",
       "    <tr>\n",
       "      <th>30</th>\n",
       "      <td>2190</td>\n",
       "      <td>{'coordinates': [-93.61979, 41.60558], 'type':...</td>\n",
       "      <td>POLK</td>\n",
       "    </tr>\n",
       "    <tr>\n",
       "      <th>80</th>\n",
       "      <td>2666</td>\n",
       "      <td>{'coordinates': [-93.62173, 41.70471], 'type':...</td>\n",
       "      <td>POLK</td>\n",
       "    </tr>\n",
       "    <tr>\n",
       "      <th>100</th>\n",
       "      <td>2699</td>\n",
       "      <td>{'coordinates': [-93.62362, 41.70324], 'type':...</td>\n",
       "      <td>POLK</td>\n",
       "    </tr>\n",
       "    <tr>\n",
       "      <th>118</th>\n",
       "      <td>6245</td>\n",
       "      <td>{'coordinates': [-93.58545, 41.73189], 'type':...</td>\n",
       "      <td>POLK</td>\n",
       "    </tr>\n",
       "  </tbody>\n",
       "</table>\n",
       "</div>"
      ]
     },
     "execution_count": 2,
     "metadata": {},
     "output_type": "execute_result"
    }
   ],
   "execution_count": 2
  },
  {
   "cell_type": "code",
   "id": "10352d611edddf6f",
   "metadata": {
    "ExecuteTime": {
     "end_time": "2025-10-15T17:12:40.528741Z",
     "start_time": "2025-10-15T17:12:40.522729Z"
    }
   },
   "source": [
    "from tqdm import tqdm"
   ],
   "outputs": [],
   "execution_count": 3
  },
  {
   "cell_type": "code",
   "id": "68278e61",
   "metadata": {
    "ExecuteTime": {
     "end_time": "2025-10-15T17:12:40.631882Z",
     "start_time": "2025-10-15T17:12:40.628701Z"
    }
   },
   "source": [
    "df.store_location.iloc[1]"
   ],
   "outputs": [
    {
     "data": {
      "text/plain": [
       "{'coordinates': array([-93.61979,  41.60558]), 'type': 'Point'}"
      ]
     },
     "execution_count": 4,
     "metadata": {},
     "output_type": "execute_result"
    }
   ],
   "execution_count": 4
  },
  {
   "cell_type": "code",
   "id": "b1707dbd863eb1bf",
   "metadata": {
    "ExecuteTime": {
     "end_time": "2025-10-15T17:12:40.690901Z",
     "start_time": "2025-10-15T17:12:40.676928Z"
    }
   },
   "source": [
    "from math import radians\n",
    "\n",
    "df['lon'] = df['store_location'].apply(\n",
    "    lambda x: None if pd.isna(x) else x['coordinates'][0]\n",
    ")\n",
    "df['lat'] = df['store_location'].apply(\n",
    "    lambda x: None if pd.isna(x) else x['coordinates'][1]\n",
    ")\n",
    "df[\"lat\"] = df['lat'].astype(float).apply(radians)\n",
    "df[\"lon\"] = df['lon'].astype(float).apply(radians)\n",
    "df.drop(columns=[\"store_location\"], inplace=True)"
   ],
   "outputs": [],
   "execution_count": 5
  },
  {
   "cell_type": "code",
   "id": "fa786aa2e10aef20",
   "metadata": {
    "ExecuteTime": {
     "end_time": "2025-10-15T17:12:40.707572Z",
     "start_time": "2025-10-15T17:12:40.702885Z"
    }
   },
   "source": [
    "df"
   ],
   "outputs": [
    {
     "data": {
      "text/plain": [
       "          store     county       lon       lat\n",
       "0          4829       POLK -1.633869  0.726157\n",
       "30         2190       POLK -1.633974  0.726154\n",
       "80         2666       POLK -1.634007  0.727885\n",
       "100        2699       POLK -1.634040  0.727859\n",
       "118        6245       POLK -1.633374  0.728359\n",
       "...         ...        ...       ...       ...\n",
       "6839222  010647  DICKINSON -1.659711  0.757868\n",
       "6848633  010652       POLK -1.635614  0.729061\n",
       "6852936  010639    JOHNSON -1.595679  0.724074\n",
       "6855968  010657       LINN -1.598323  0.733647\n",
       "6856156  010656       LINN -1.599158  0.733604\n",
       "\n",
       "[2383 rows x 4 columns]"
      ],
      "text/html": [
       "<div>\n",
       "<style scoped>\n",
       "    .dataframe tbody tr th:only-of-type {\n",
       "        vertical-align: middle;\n",
       "    }\n",
       "\n",
       "    .dataframe tbody tr th {\n",
       "        vertical-align: top;\n",
       "    }\n",
       "\n",
       "    .dataframe thead th {\n",
       "        text-align: right;\n",
       "    }\n",
       "</style>\n",
       "<table border=\"1\" class=\"dataframe\">\n",
       "  <thead>\n",
       "    <tr style=\"text-align: right;\">\n",
       "      <th></th>\n",
       "      <th>store</th>\n",
       "      <th>county</th>\n",
       "      <th>lon</th>\n",
       "      <th>lat</th>\n",
       "    </tr>\n",
       "  </thead>\n",
       "  <tbody>\n",
       "    <tr>\n",
       "      <th>0</th>\n",
       "      <td>4829</td>\n",
       "      <td>POLK</td>\n",
       "      <td>-1.633869</td>\n",
       "      <td>0.726157</td>\n",
       "    </tr>\n",
       "    <tr>\n",
       "      <th>30</th>\n",
       "      <td>2190</td>\n",
       "      <td>POLK</td>\n",
       "      <td>-1.633974</td>\n",
       "      <td>0.726154</td>\n",
       "    </tr>\n",
       "    <tr>\n",
       "      <th>80</th>\n",
       "      <td>2666</td>\n",
       "      <td>POLK</td>\n",
       "      <td>-1.634007</td>\n",
       "      <td>0.727885</td>\n",
       "    </tr>\n",
       "    <tr>\n",
       "      <th>100</th>\n",
       "      <td>2699</td>\n",
       "      <td>POLK</td>\n",
       "      <td>-1.634040</td>\n",
       "      <td>0.727859</td>\n",
       "    </tr>\n",
       "    <tr>\n",
       "      <th>118</th>\n",
       "      <td>6245</td>\n",
       "      <td>POLK</td>\n",
       "      <td>-1.633374</td>\n",
       "      <td>0.728359</td>\n",
       "    </tr>\n",
       "    <tr>\n",
       "      <th>...</th>\n",
       "      <td>...</td>\n",
       "      <td>...</td>\n",
       "      <td>...</td>\n",
       "      <td>...</td>\n",
       "    </tr>\n",
       "    <tr>\n",
       "      <th>6839222</th>\n",
       "      <td>010647</td>\n",
       "      <td>DICKINSON</td>\n",
       "      <td>-1.659711</td>\n",
       "      <td>0.757868</td>\n",
       "    </tr>\n",
       "    <tr>\n",
       "      <th>6848633</th>\n",
       "      <td>010652</td>\n",
       "      <td>POLK</td>\n",
       "      <td>-1.635614</td>\n",
       "      <td>0.729061</td>\n",
       "    </tr>\n",
       "    <tr>\n",
       "      <th>6852936</th>\n",
       "      <td>010639</td>\n",
       "      <td>JOHNSON</td>\n",
       "      <td>-1.595679</td>\n",
       "      <td>0.724074</td>\n",
       "    </tr>\n",
       "    <tr>\n",
       "      <th>6855968</th>\n",
       "      <td>010657</td>\n",
       "      <td>LINN</td>\n",
       "      <td>-1.598323</td>\n",
       "      <td>0.733647</td>\n",
       "    </tr>\n",
       "    <tr>\n",
       "      <th>6856156</th>\n",
       "      <td>010656</td>\n",
       "      <td>LINN</td>\n",
       "      <td>-1.599158</td>\n",
       "      <td>0.733604</td>\n",
       "    </tr>\n",
       "  </tbody>\n",
       "</table>\n",
       "<p>2383 rows × 4 columns</p>\n",
       "</div>"
      ]
     },
     "execution_count": 6,
     "metadata": {},
     "output_type": "execute_result"
    }
   ],
   "execution_count": 6
  },
  {
   "cell_type": "code",
   "id": "af2df25826eed8c",
   "metadata": {
    "ExecuteTime": {
     "end_time": "2025-10-15T17:12:40.984891Z",
     "start_time": "2025-10-15T17:12:40.746523Z"
    }
   },
   "source": [
    "from sklearn.metrics.pairwise import haversine_distances\n",
    "result = haversine_distances(df[[\"lat\", \"lon\"]])"
   ],
   "outputs": [],
   "execution_count": 7
  },
  {
   "cell_type": "code",
   "id": "9c29d90730539612",
   "metadata": {
    "ExecuteTime": {
     "end_time": "2025-10-15T17:12:41.015794Z",
     "start_time": "2025-10-15T17:12:41.009932Z"
    }
   },
   "source": [
    "pairwise_distance_miles = result * 3959"
   ],
   "outputs": [],
   "execution_count": 8
  },
  {
   "cell_type": "code",
   "id": "5b251b95c7a2b513",
   "metadata": {
    "ExecuteTime": {
     "end_time": "2025-10-15T17:12:41.079800Z",
     "start_time": "2025-10-15T17:12:41.076867Z"
    }
   },
   "source": [
    "np.fill_diagonal(pairwise_distance_miles, np.NaN)\n",
    "pairwise_distance_miles"
   ],
   "outputs": [
    {
     "data": {
      "text/plain": [
       "array([[         nan,   0.3107378 ,   6.8502037 , ..., 113.4519488 ,\n",
       "        108.98183187, 106.56962077],\n",
       "       [  0.3107378 ,          nan,   6.85037582, ..., 113.76120373,\n",
       "        109.28296777, 106.87041282],\n",
       "       [  6.8502037 ,   6.85037582,          nan, ..., 114.4741194 ,\n",
       "        107.64408286, 105.20647938],\n",
       "       ...,\n",
       "       [113.4519488 , 113.76120373, 114.4741194 , ...,          nan,\n",
       "         38.69575115,  39.10250382],\n",
       "       [108.98183187, 109.28296777, 107.64408286, ...,  38.69575115,\n",
       "                 nan,   2.45965014],\n",
       "       [106.56962077, 106.87041282, 105.20647938, ...,  39.10250382,\n",
       "          2.45965014,          nan]])"
      ]
     },
     "execution_count": 9,
     "metadata": {},
     "output_type": "execute_result"
    }
   ],
   "execution_count": 9
  },
  {
   "cell_type": "code",
   "id": "9edd40b435a84b3d",
   "metadata": {
    "ExecuteTime": {
     "end_time": "2025-10-15T17:12:41.221617Z",
     "start_time": "2025-10-15T17:12:41.216894Z"
    }
   },
   "source": [
    "df[\"# of stores within 5 mile radius\"] = (pairwise_distance_miles < 5).sum(axis=1)\n"
   ],
   "outputs": [],
   "execution_count": 10
  },
  {
   "cell_type": "code",
   "id": "d83053d6b0c1351",
   "metadata": {
    "ExecuteTime": {
     "end_time": "2025-10-15T17:12:41.486989Z",
     "start_time": "2025-10-15T17:12:41.473372Z"
    }
   },
   "source": [
    "df[\"Nearest other store (mi)\"] = pd.DataFrame(pairwise_distance_miles).min(axis=1, skipna=True).to_numpy()\n"
   ],
   "outputs": [],
   "execution_count": 11
  },
  {
   "cell_type": "code",
   "id": "fa96dc5f43a15b9e",
   "metadata": {
    "ExecuteTime": {
     "end_time": "2025-10-15T17:12:41.521555Z",
     "start_time": "2025-10-15T17:12:41.515695Z"
    }
   },
   "source": [
    "df"
   ],
   "outputs": [
    {
     "data": {
      "text/plain": [
       "          store     county       lon       lat  \\\n",
       "0          4829       POLK -1.633869  0.726157   \n",
       "30         2190       POLK -1.633974  0.726154   \n",
       "80         2666       POLK -1.634007  0.727885   \n",
       "100        2699       POLK -1.634040  0.727859   \n",
       "118        6245       POLK -1.633374  0.728359   \n",
       "...         ...        ...       ...       ...   \n",
       "6839222  010647  DICKINSON -1.659711  0.757868   \n",
       "6848633  010652       POLK -1.635614  0.729061   \n",
       "6852936  010639    JOHNSON -1.595679  0.724074   \n",
       "6855968  010657       LINN -1.598323  0.733647   \n",
       "6856156  010656       LINN -1.599158  0.733604   \n",
       "\n",
       "         # of stores within 5 mile radius  Nearest other store (mi)  \n",
       "0                                      87                  0.310738  \n",
       "30                                     98                  0.024184  \n",
       "80                                     63                  0.140796  \n",
       "100                                    64                  0.140796  \n",
       "118                                    46                  0.043836  \n",
       "...                                   ...                       ...  \n",
       "6839222                                15                  0.027613  \n",
       "6848633                                 6                  0.018401  \n",
       "6852936                                 1                  0.258425  \n",
       "6855968                                68                  0.020202  \n",
       "6856156                                87                  0.001540  \n",
       "\n",
       "[2383 rows x 6 columns]"
      ],
      "text/html": [
       "<div>\n",
       "<style scoped>\n",
       "    .dataframe tbody tr th:only-of-type {\n",
       "        vertical-align: middle;\n",
       "    }\n",
       "\n",
       "    .dataframe tbody tr th {\n",
       "        vertical-align: top;\n",
       "    }\n",
       "\n",
       "    .dataframe thead th {\n",
       "        text-align: right;\n",
       "    }\n",
       "</style>\n",
       "<table border=\"1\" class=\"dataframe\">\n",
       "  <thead>\n",
       "    <tr style=\"text-align: right;\">\n",
       "      <th></th>\n",
       "      <th>store</th>\n",
       "      <th>county</th>\n",
       "      <th>lon</th>\n",
       "      <th>lat</th>\n",
       "      <th># of stores within 5 mile radius</th>\n",
       "      <th>Nearest other store (mi)</th>\n",
       "    </tr>\n",
       "  </thead>\n",
       "  <tbody>\n",
       "    <tr>\n",
       "      <th>0</th>\n",
       "      <td>4829</td>\n",
       "      <td>POLK</td>\n",
       "      <td>-1.633869</td>\n",
       "      <td>0.726157</td>\n",
       "      <td>87</td>\n",
       "      <td>0.310738</td>\n",
       "    </tr>\n",
       "    <tr>\n",
       "      <th>30</th>\n",
       "      <td>2190</td>\n",
       "      <td>POLK</td>\n",
       "      <td>-1.633974</td>\n",
       "      <td>0.726154</td>\n",
       "      <td>98</td>\n",
       "      <td>0.024184</td>\n",
       "    </tr>\n",
       "    <tr>\n",
       "      <th>80</th>\n",
       "      <td>2666</td>\n",
       "      <td>POLK</td>\n",
       "      <td>-1.634007</td>\n",
       "      <td>0.727885</td>\n",
       "      <td>63</td>\n",
       "      <td>0.140796</td>\n",
       "    </tr>\n",
       "    <tr>\n",
       "      <th>100</th>\n",
       "      <td>2699</td>\n",
       "      <td>POLK</td>\n",
       "      <td>-1.634040</td>\n",
       "      <td>0.727859</td>\n",
       "      <td>64</td>\n",
       "      <td>0.140796</td>\n",
       "    </tr>\n",
       "    <tr>\n",
       "      <th>118</th>\n",
       "      <td>6245</td>\n",
       "      <td>POLK</td>\n",
       "      <td>-1.633374</td>\n",
       "      <td>0.728359</td>\n",
       "      <td>46</td>\n",
       "      <td>0.043836</td>\n",
       "    </tr>\n",
       "    <tr>\n",
       "      <th>...</th>\n",
       "      <td>...</td>\n",
       "      <td>...</td>\n",
       "      <td>...</td>\n",
       "      <td>...</td>\n",
       "      <td>...</td>\n",
       "      <td>...</td>\n",
       "    </tr>\n",
       "    <tr>\n",
       "      <th>6839222</th>\n",
       "      <td>010647</td>\n",
       "      <td>DICKINSON</td>\n",
       "      <td>-1.659711</td>\n",
       "      <td>0.757868</td>\n",
       "      <td>15</td>\n",
       "      <td>0.027613</td>\n",
       "    </tr>\n",
       "    <tr>\n",
       "      <th>6848633</th>\n",
       "      <td>010652</td>\n",
       "      <td>POLK</td>\n",
       "      <td>-1.635614</td>\n",
       "      <td>0.729061</td>\n",
       "      <td>6</td>\n",
       "      <td>0.018401</td>\n",
       "    </tr>\n",
       "    <tr>\n",
       "      <th>6852936</th>\n",
       "      <td>010639</td>\n",
       "      <td>JOHNSON</td>\n",
       "      <td>-1.595679</td>\n",
       "      <td>0.724074</td>\n",
       "      <td>1</td>\n",
       "      <td>0.258425</td>\n",
       "    </tr>\n",
       "    <tr>\n",
       "      <th>6855968</th>\n",
       "      <td>010657</td>\n",
       "      <td>LINN</td>\n",
       "      <td>-1.598323</td>\n",
       "      <td>0.733647</td>\n",
       "      <td>68</td>\n",
       "      <td>0.020202</td>\n",
       "    </tr>\n",
       "    <tr>\n",
       "      <th>6856156</th>\n",
       "      <td>010656</td>\n",
       "      <td>LINN</td>\n",
       "      <td>-1.599158</td>\n",
       "      <td>0.733604</td>\n",
       "      <td>87</td>\n",
       "      <td>0.001540</td>\n",
       "    </tr>\n",
       "  </tbody>\n",
       "</table>\n",
       "<p>2383 rows × 6 columns</p>\n",
       "</div>"
      ]
     },
     "execution_count": 12,
     "metadata": {},
     "output_type": "execute_result"
    }
   ],
   "execution_count": 12
  },
  {
   "cell_type": "code",
   "id": "fdff7007b6c92289",
   "metadata": {
    "ExecuteTime": {
     "end_time": "2025-10-15T17:12:41.591838Z",
     "start_time": "2025-10-15T17:12:41.570080Z"
    }
   },
   "source": [
    "df.to_csv(\"proximity.csv\")"
   ],
   "outputs": [],
   "execution_count": 13
  }
 ],
 "metadata": {
  "kernelspec": {
   "display_name": "Python 3",
   "language": "python",
   "name": "python3"
  },
  "language_info": {
   "codemirror_mode": {
    "name": "ipython",
    "version": 3
   },
   "file_extension": ".py",
   "mimetype": "text/x-python",
   "name": "python",
   "nbconvert_exporter": "python",
   "pygments_lexer": "ipython3",
   "version": "3.10.3"
  }
 },
 "nbformat": 4,
 "nbformat_minor": 5
}
