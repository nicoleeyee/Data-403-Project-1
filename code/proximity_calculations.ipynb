{
 "cells": [
  {
   "cell_type": "code",
   "id": "initial_id",
   "metadata": {
    "collapsed": true,
    "ExecuteTime": {
     "end_time": "2025-10-17T04:16:15.214289Z",
     "start_time": "2025-10-17T04:16:15.146690Z"
    }
   },
   "source": [
    "import pandas as pd\n",
    "from geopy.distance import geodesic\n",
    "import numpy as np"
   ],
   "outputs": [],
   "execution_count": 1
  },
  {
   "cell_type": "code",
   "id": "7a8406c65d6128fc",
   "metadata": {
    "ExecuteTime": {
     "end_time": "2025-10-17T04:16:19.215739Z",
     "start_time": "2025-10-17T04:16:15.356335Z"
    }
   },
   "source": [
    "#Read in data\n",
    "df = pd.read_parquet(\"../data/iowa_liquor_2023_2025.parquet\", columns=['store', 'store_location', 'county'])\n",
    "df = df.dropna(subset=[\"store_location\"]).drop_duplicates(subset=[\"store\"])\n",
    "df.head()"
   ],
   "outputs": [
    {
     "data": {
      "text/plain": [
       "    store                                     store_location county\n",
       "0    4829  {'coordinates': [-93.61378, 41.60575], 'type':...   POLK\n",
       "30   2190  {'coordinates': [-93.61979, 41.60558], 'type':...   POLK\n",
       "80   2666  {'coordinates': [-93.62173, 41.70471], 'type':...   POLK\n",
       "100  2699  {'coordinates': [-93.62362, 41.70324], 'type':...   POLK\n",
       "118  6245  {'coordinates': [-93.58545, 41.73189], 'type':...   POLK"
      ],
      "text/html": [
       "<div>\n",
       "<style scoped>\n",
       "    .dataframe tbody tr th:only-of-type {\n",
       "        vertical-align: middle;\n",
       "    }\n",
       "\n",
       "    .dataframe tbody tr th {\n",
       "        vertical-align: top;\n",
       "    }\n",
       "\n",
       "    .dataframe thead th {\n",
       "        text-align: right;\n",
       "    }\n",
       "</style>\n",
       "<table border=\"1\" class=\"dataframe\">\n",
       "  <thead>\n",
       "    <tr style=\"text-align: right;\">\n",
       "      <th></th>\n",
       "      <th>store</th>\n",
       "      <th>store_location</th>\n",
       "      <th>county</th>\n",
       "    </tr>\n",
       "  </thead>\n",
       "  <tbody>\n",
       "    <tr>\n",
       "      <th>0</th>\n",
       "      <td>4829</td>\n",
       "      <td>{'coordinates': [-93.61378, 41.60575], 'type':...</td>\n",
       "      <td>POLK</td>\n",
       "    </tr>\n",
       "    <tr>\n",
       "      <th>30</th>\n",
       "      <td>2190</td>\n",
       "      <td>{'coordinates': [-93.61979, 41.60558], 'type':...</td>\n",
       "      <td>POLK</td>\n",
       "    </tr>\n",
       "    <tr>\n",
       "      <th>80</th>\n",
       "      <td>2666</td>\n",
       "      <td>{'coordinates': [-93.62173, 41.70471], 'type':...</td>\n",
       "      <td>POLK</td>\n",
       "    </tr>\n",
       "    <tr>\n",
       "      <th>100</th>\n",
       "      <td>2699</td>\n",
       "      <td>{'coordinates': [-93.62362, 41.70324], 'type':...</td>\n",
       "      <td>POLK</td>\n",
       "    </tr>\n",
       "    <tr>\n",
       "      <th>118</th>\n",
       "      <td>6245</td>\n",
       "      <td>{'coordinates': [-93.58545, 41.73189], 'type':...</td>\n",
       "      <td>POLK</td>\n",
       "    </tr>\n",
       "  </tbody>\n",
       "</table>\n",
       "</div>"
      ]
     },
     "execution_count": 2,
     "metadata": {},
     "output_type": "execute_result"
    }
   ],
   "execution_count": 2
  },
  {
   "cell_type": "code",
   "id": "b1707dbd863eb1bf",
   "metadata": {
    "ExecuteTime": {
     "end_time": "2025-10-17T04:16:19.371939Z",
     "start_time": "2025-10-17T04:16:19.359462Z"
    }
   },
   "source": [
    "from math import radians\n",
    "#isolate longitude and latitude coordinates\n",
    "df['lon'] = df['store_location'].apply(\n",
    "    lambda x: None if pd.isna(x) else x['coordinates'][0]\n",
    ")\n",
    "df['lat'] = df['store_location'].apply(\n",
    "    lambda x: None if pd.isna(x) else x['coordinates'][1]\n",
    ")\n",
    "#convert to radians\n",
    "df[\"lat\"] = df['lat'].astype(float).apply(radians)\n",
    "df[\"lon\"] = df['lon'].astype(float).apply(radians)\n",
    "df.drop(columns=[\"store_location\"], inplace=True)"
   ],
   "outputs": [],
   "execution_count": 3
  },
  {
   "cell_type": "code",
   "id": "af2df25826eed8c",
   "metadata": {
    "ExecuteTime": {
     "end_time": "2025-10-17T04:16:20.057694Z",
     "start_time": "2025-10-17T04:16:19.441211Z"
    }
   },
   "source": [
    "from sklearn.metrics.pairwise import haversine_distances\n",
    "#calculate pairwise distances\n",
    "result = haversine_distances(df[[\"lat\", \"lon\"]])"
   ],
   "outputs": [],
   "execution_count": 4
  },
  {
   "cell_type": "code",
   "id": "9c29d90730539612",
   "metadata": {
    "ExecuteTime": {
     "end_time": "2025-10-17T04:16:20.072305Z",
     "start_time": "2025-10-17T04:16:20.065839Z"
    }
   },
   "source": [
    "#convert to miles\n",
    "pairwise_distance_miles = result * 3959"
   ],
   "outputs": [],
   "execution_count": 5
  },
  {
   "cell_type": "code",
   "id": "5b251b95c7a2b513",
   "metadata": {
    "ExecuteTime": {
     "end_time": "2025-10-17T04:16:20.083192Z",
     "start_time": "2025-10-17T04:16:20.079789Z"
    }
   },
   "source": [
    "# make diagonal of pairwise distance matrix NAs\n",
    "np.fill_diagonal(pairwise_distance_miles, np.NaN)\n",
    "pairwise_distance_miles"
   ],
   "outputs": [
    {
     "data": {
      "text/plain": [
       "array([[         nan,   0.3107378 ,   6.8502037 , ..., 113.4519488 ,\n",
       "        108.98183187, 106.56962077],\n",
       "       [  0.3107378 ,          nan,   6.85037582, ..., 113.76120373,\n",
       "        109.28296777, 106.87041282],\n",
       "       [  6.8502037 ,   6.85037582,          nan, ..., 114.4741194 ,\n",
       "        107.64408286, 105.20647938],\n",
       "       ...,\n",
       "       [113.4519488 , 113.76120373, 114.4741194 , ...,          nan,\n",
       "         38.69575115,  39.10250382],\n",
       "       [108.98183187, 109.28296777, 107.64408286, ...,  38.69575115,\n",
       "                 nan,   2.45965014],\n",
       "       [106.56962077, 106.87041282, 105.20647938, ...,  39.10250382,\n",
       "          2.45965014,          nan]])"
      ]
     },
     "execution_count": 6,
     "metadata": {},
     "output_type": "execute_result"
    }
   ],
   "execution_count": 6
  },
  {
   "cell_type": "code",
   "id": "9edd40b435a84b3d",
   "metadata": {
    "ExecuteTime": {
     "end_time": "2025-10-17T04:16:20.115920Z",
     "start_time": "2025-10-17T04:16:20.109812Z"
    }
   },
   "source": [
    "df[\"# of stores within 5 mile radius\"] = (pairwise_distance_miles < 5).sum(axis=1)\n"
   ],
   "outputs": [],
   "execution_count": 7
  },
  {
   "cell_type": "code",
   "id": "d83053d6b0c1351",
   "metadata": {
    "ExecuteTime": {
     "end_time": "2025-10-17T04:16:20.165752Z",
     "start_time": "2025-10-17T04:16:20.152100Z"
    }
   },
   "source": [
    "df[\"Nearest other store (mi)\"] = pd.DataFrame(pairwise_distance_miles).min(axis=1, skipna=True).to_numpy()\n"
   ],
   "outputs": [],
   "execution_count": 8
  },
  {
   "cell_type": "code",
   "id": "fa96dc5f43a15b9e",
   "metadata": {
    "ExecuteTime": {
     "end_time": "2025-10-17T04:16:20.443250Z",
     "start_time": "2025-10-17T04:16:20.439603Z"
    }
   },
   "source": "df.head()",
   "outputs": [
    {
     "data": {
      "text/plain": [
       "    store county       lon       lat  # of stores within 5 mile radius  \\\n",
       "0    4829   POLK -1.633869  0.726157                                87   \n",
       "30   2190   POLK -1.633974  0.726154                                98   \n",
       "80   2666   POLK -1.634007  0.727885                                63   \n",
       "100  2699   POLK -1.634040  0.727859                                64   \n",
       "118  6245   POLK -1.633374  0.728359                                46   \n",
       "\n",
       "     Nearest other store (mi)  \n",
       "0                    0.310738  \n",
       "30                   0.024184  \n",
       "80                   0.140796  \n",
       "100                  0.140796  \n",
       "118                  0.043836  "
      ],
      "text/html": [
       "<div>\n",
       "<style scoped>\n",
       "    .dataframe tbody tr th:only-of-type {\n",
       "        vertical-align: middle;\n",
       "    }\n",
       "\n",
       "    .dataframe tbody tr th {\n",
       "        vertical-align: top;\n",
       "    }\n",
       "\n",
       "    .dataframe thead th {\n",
       "        text-align: right;\n",
       "    }\n",
       "</style>\n",
       "<table border=\"1\" class=\"dataframe\">\n",
       "  <thead>\n",
       "    <tr style=\"text-align: right;\">\n",
       "      <th></th>\n",
       "      <th>store</th>\n",
       "      <th>county</th>\n",
       "      <th>lon</th>\n",
       "      <th>lat</th>\n",
       "      <th># of stores within 5 mile radius</th>\n",
       "      <th>Nearest other store (mi)</th>\n",
       "    </tr>\n",
       "  </thead>\n",
       "  <tbody>\n",
       "    <tr>\n",
       "      <th>0</th>\n",
       "      <td>4829</td>\n",
       "      <td>POLK</td>\n",
       "      <td>-1.633869</td>\n",
       "      <td>0.726157</td>\n",
       "      <td>87</td>\n",
       "      <td>0.310738</td>\n",
       "    </tr>\n",
       "    <tr>\n",
       "      <th>30</th>\n",
       "      <td>2190</td>\n",
       "      <td>POLK</td>\n",
       "      <td>-1.633974</td>\n",
       "      <td>0.726154</td>\n",
       "      <td>98</td>\n",
       "      <td>0.024184</td>\n",
       "    </tr>\n",
       "    <tr>\n",
       "      <th>80</th>\n",
       "      <td>2666</td>\n",
       "      <td>POLK</td>\n",
       "      <td>-1.634007</td>\n",
       "      <td>0.727885</td>\n",
       "      <td>63</td>\n",
       "      <td>0.140796</td>\n",
       "    </tr>\n",
       "    <tr>\n",
       "      <th>100</th>\n",
       "      <td>2699</td>\n",
       "      <td>POLK</td>\n",
       "      <td>-1.634040</td>\n",
       "      <td>0.727859</td>\n",
       "      <td>64</td>\n",
       "      <td>0.140796</td>\n",
       "    </tr>\n",
       "    <tr>\n",
       "      <th>118</th>\n",
       "      <td>6245</td>\n",
       "      <td>POLK</td>\n",
       "      <td>-1.633374</td>\n",
       "      <td>0.728359</td>\n",
       "      <td>46</td>\n",
       "      <td>0.043836</td>\n",
       "    </tr>\n",
       "  </tbody>\n",
       "</table>\n",
       "</div>"
      ]
     },
     "execution_count": 9,
     "metadata": {},
     "output_type": "execute_result"
    }
   ],
   "execution_count": 9
  },
  {
   "cell_type": "code",
   "id": "fdff7007b6c92289",
   "metadata": {
    "ExecuteTime": {
     "end_time": "2025-10-17T04:16:20.498643Z",
     "start_time": "2025-10-17T04:16:20.487838Z"
    }
   },
   "source": [
    "#save df\n",
    "df.to_csv(\"proximity.csv\")"
   ],
   "outputs": [],
   "execution_count": 10
  }
 ],
 "metadata": {
  "kernelspec": {
   "display_name": "Python 3",
   "language": "python",
   "name": "python3"
  },
  "language_info": {
   "codemirror_mode": {
    "name": "ipython",
    "version": 3
   },
   "file_extension": ".py",
   "mimetype": "text/x-python",
   "name": "python",
   "nbconvert_exporter": "python",
   "pygments_lexer": "ipython3",
   "version": "3.10.3"
  }
 },
 "nbformat": 4,
 "nbformat_minor": 5
}
