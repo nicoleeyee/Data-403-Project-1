{
 "cells": [
  {
   "cell_type": "code",
   "execution_count": 8,
   "id": "initial_id",
   "metadata": {
    "ExecuteTime": {
     "end_time": "2025-09-30T23:46:17.878853Z",
     "start_time": "2025-09-30T23:46:14.626277Z"
    },
    "collapsed": true
   },
   "outputs": [],
   "source": [
    "import pandas as pd\n",
    "from geopy.distance import geodesic\n",
    "import numpy as np"
   ]
  },
  {
   "cell_type": "code",
   "execution_count": 10,
   "id": "7a8406c65d6128fc",
   "metadata": {
    "ExecuteTime": {
     "end_time": "2025-09-30T23:36:14.730857Z",
     "start_time": "2025-09-30T23:36:08.223256Z"
    }
   },
   "outputs": [
    {
     "data": {
      "text/html": [
       "<div>\n",
       "<style scoped>\n",
       "    .dataframe tbody tr th:only-of-type {\n",
       "        vertical-align: middle;\n",
       "    }\n",
       "\n",
       "    .dataframe tbody tr th {\n",
       "        vertical-align: top;\n",
       "    }\n",
       "\n",
       "    .dataframe thead th {\n",
       "        text-align: right;\n",
       "    }\n",
       "</style>\n",
       "<table border=\"1\" class=\"dataframe\">\n",
       "  <thead>\n",
       "    <tr style=\"text-align: right;\">\n",
       "      <th></th>\n",
       "      <th>store</th>\n",
       "      <th>store_location</th>\n",
       "    </tr>\n",
       "  </thead>\n",
       "  <tbody>\n",
       "    <tr>\n",
       "      <th>0</th>\n",
       "      <td>4829</td>\n",
       "      <td>{'coordinates': [-93.61378, 41.60575], 'type':...</td>\n",
       "    </tr>\n",
       "    <tr>\n",
       "      <th>30</th>\n",
       "      <td>2190</td>\n",
       "      <td>{'coordinates': [-93.61979, 41.60558], 'type':...</td>\n",
       "    </tr>\n",
       "    <tr>\n",
       "      <th>80</th>\n",
       "      <td>2666</td>\n",
       "      <td>{'coordinates': [-93.62173, 41.70471], 'type':...</td>\n",
       "    </tr>\n",
       "    <tr>\n",
       "      <th>100</th>\n",
       "      <td>2699</td>\n",
       "      <td>{'coordinates': [-93.62362, 41.70324], 'type':...</td>\n",
       "    </tr>\n",
       "    <tr>\n",
       "      <th>118</th>\n",
       "      <td>6245</td>\n",
       "      <td>{'coordinates': [-93.58545, 41.73189], 'type':...</td>\n",
       "    </tr>\n",
       "  </tbody>\n",
       "</table>\n",
       "</div>"
      ],
      "text/plain": [
       "    store                                     store_location\n",
       "0    4829  {'coordinates': [-93.61378, 41.60575], 'type':...\n",
       "30   2190  {'coordinates': [-93.61979, 41.60558], 'type':...\n",
       "80   2666  {'coordinates': [-93.62173, 41.70471], 'type':...\n",
       "100  2699  {'coordinates': [-93.62362, 41.70324], 'type':...\n",
       "118  6245  {'coordinates': [-93.58545, 41.73189], 'type':..."
      ]
     },
     "execution_count": 10,
     "metadata": {},
     "output_type": "execute_result"
    }
   ],
   "source": [
    "df = pd.read_parquet(\"iowa_liquor_2023_2025.parquet\", columns=['store', 'store_location'])\n",
    "df = df.dropna(subset=[\"store_location\"]).drop_duplicates(subset=[\"store\"])\n",
    "df.head()"
   ]
  },
  {
   "cell_type": "code",
   "execution_count": 11,
   "id": "10352d611edddf6f",
   "metadata": {
    "ExecuteTime": {
     "end_time": "2025-09-26T18:09:05.476256Z",
     "start_time": "2025-09-26T18:09:05.471227Z"
    }
   },
   "outputs": [],
   "source": [
    "from tqdm import tqdm"
   ]
  },
  {
   "cell_type": "code",
   "execution_count": 12,
   "id": "68278e61",
   "metadata": {},
   "outputs": [
    {
     "data": {
      "text/plain": [
       "{'coordinates': array([-93.61979,  41.60558]), 'type': 'Point'}"
      ]
     },
     "execution_count": 12,
     "metadata": {},
     "output_type": "execute_result"
    }
   ],
   "source": [
    "df.store_location.iloc[1]"
   ]
  },
  {
   "cell_type": "code",
   "execution_count": 13,
   "id": "b1707dbd863eb1bf",
   "metadata": {
    "ExecuteTime": {
     "end_time": "2025-09-30T23:46:55.414491Z",
     "start_time": "2025-09-30T23:46:55.400546Z"
    }
   },
   "outputs": [],
   "source": [
    "from math import radians\n",
    "\n",
    "df['lon'] = df['store_location'].apply(\n",
    "    lambda x: None if pd.isna(x) else x['coordinates'][0]\n",
    ")\n",
    "df['lat'] = df['store_location'].apply(\n",
    "    lambda x: None if pd.isna(x) else x['coordinates'][1]\n",
    ")\n",
    "df[\"lat\"] = df['lat'].astype(float).apply(radians)\n",
    "df[\"lon\"] = df['lon'].astype(float).apply(radians)\n",
    "df.drop(columns=[\"store_location\"], inplace=True)"
   ]
  },
  {
   "cell_type": "code",
   "execution_count": 14,
   "id": "fa786aa2e10aef20",
   "metadata": {
    "ExecuteTime": {
     "end_time": "2025-09-30T23:46:31.498744Z",
     "start_time": "2025-09-30T23:46:31.492738Z"
    }
   },
   "outputs": [
    {
     "data": {
      "text/html": [
       "<div>\n",
       "<style scoped>\n",
       "    .dataframe tbody tr th:only-of-type {\n",
       "        vertical-align: middle;\n",
       "    }\n",
       "\n",
       "    .dataframe tbody tr th {\n",
       "        vertical-align: top;\n",
       "    }\n",
       "\n",
       "    .dataframe thead th {\n",
       "        text-align: right;\n",
       "    }\n",
       "</style>\n",
       "<table border=\"1\" class=\"dataframe\">\n",
       "  <thead>\n",
       "    <tr style=\"text-align: right;\">\n",
       "      <th></th>\n",
       "      <th>store</th>\n",
       "      <th>lon</th>\n",
       "      <th>lat</th>\n",
       "    </tr>\n",
       "  </thead>\n",
       "  <tbody>\n",
       "    <tr>\n",
       "      <th>0</th>\n",
       "      <td>4829</td>\n",
       "      <td>-1.633869</td>\n",
       "      <td>0.726157</td>\n",
       "    </tr>\n",
       "    <tr>\n",
       "      <th>30</th>\n",
       "      <td>2190</td>\n",
       "      <td>-1.633974</td>\n",
       "      <td>0.726154</td>\n",
       "    </tr>\n",
       "    <tr>\n",
       "      <th>80</th>\n",
       "      <td>2666</td>\n",
       "      <td>-1.634007</td>\n",
       "      <td>0.727885</td>\n",
       "    </tr>\n",
       "    <tr>\n",
       "      <th>100</th>\n",
       "      <td>2699</td>\n",
       "      <td>-1.634040</td>\n",
       "      <td>0.727859</td>\n",
       "    </tr>\n",
       "    <tr>\n",
       "      <th>118</th>\n",
       "      <td>6245</td>\n",
       "      <td>-1.633374</td>\n",
       "      <td>0.728359</td>\n",
       "    </tr>\n",
       "    <tr>\n",
       "      <th>...</th>\n",
       "      <td>...</td>\n",
       "      <td>...</td>\n",
       "      <td>...</td>\n",
       "    </tr>\n",
       "    <tr>\n",
       "      <th>6839222</th>\n",
       "      <td>010647</td>\n",
       "      <td>-1.659711</td>\n",
       "      <td>0.757868</td>\n",
       "    </tr>\n",
       "    <tr>\n",
       "      <th>6848633</th>\n",
       "      <td>010652</td>\n",
       "      <td>-1.635614</td>\n",
       "      <td>0.729061</td>\n",
       "    </tr>\n",
       "    <tr>\n",
       "      <th>6852936</th>\n",
       "      <td>010639</td>\n",
       "      <td>-1.595679</td>\n",
       "      <td>0.724074</td>\n",
       "    </tr>\n",
       "    <tr>\n",
       "      <th>6855968</th>\n",
       "      <td>010657</td>\n",
       "      <td>-1.598323</td>\n",
       "      <td>0.733647</td>\n",
       "    </tr>\n",
       "    <tr>\n",
       "      <th>6856156</th>\n",
       "      <td>010656</td>\n",
       "      <td>-1.599158</td>\n",
       "      <td>0.733604</td>\n",
       "    </tr>\n",
       "  </tbody>\n",
       "</table>\n",
       "<p>2383 rows × 3 columns</p>\n",
       "</div>"
      ],
      "text/plain": [
       "          store       lon       lat\n",
       "0          4829 -1.633869  0.726157\n",
       "30         2190 -1.633974  0.726154\n",
       "80         2666 -1.634007  0.727885\n",
       "100        2699 -1.634040  0.727859\n",
       "118        6245 -1.633374  0.728359\n",
       "...         ...       ...       ...\n",
       "6839222  010647 -1.659711  0.757868\n",
       "6848633  010652 -1.635614  0.729061\n",
       "6852936  010639 -1.595679  0.724074\n",
       "6855968  010657 -1.598323  0.733647\n",
       "6856156  010656 -1.599158  0.733604\n",
       "\n",
       "[2383 rows x 3 columns]"
      ]
     },
     "execution_count": 14,
     "metadata": {},
     "output_type": "execute_result"
    }
   ],
   "source": [
    "df"
   ]
  },
  {
   "cell_type": "code",
   "execution_count": 15,
   "id": "af2df25826eed8c",
   "metadata": {
    "ExecuteTime": {
     "end_time": "2025-09-30T23:46:58.130195Z",
     "start_time": "2025-09-30T23:46:57.976861Z"
    }
   },
   "outputs": [],
   "source": [
    "from sklearn.metrics.pairwise import haversine_distances\n",
    "result = haversine_distances(df[[\"lat\", \"lon\"]])"
   ]
  },
  {
   "cell_type": "code",
   "execution_count": 16,
   "id": "9c29d90730539612",
   "metadata": {
    "ExecuteTime": {
     "end_time": "2025-09-30T23:46:59.980548Z",
     "start_time": "2025-09-30T23:46:59.971755Z"
    }
   },
   "outputs": [],
   "source": [
    "pairwise_distance_miles = result * 3959"
   ]
  },
  {
   "cell_type": "code",
   "execution_count": 17,
   "id": "5b251b95c7a2b513",
   "metadata": {
    "ExecuteTime": {
     "end_time": "2025-09-30T23:47:01.088894Z",
     "start_time": "2025-09-30T23:47:01.081729Z"
    }
   },
   "outputs": [
    {
     "data": {
      "text/plain": [
       "array([[         nan,   0.3107378 ,   6.8502037 , ..., 113.4519488 ,\n",
       "        108.98183187, 106.56962077],\n",
       "       [  0.3107378 ,          nan,   6.85037582, ..., 113.76120373,\n",
       "        109.28296777, 106.87041282],\n",
       "       [  6.8502037 ,   6.85037582,          nan, ..., 114.4741194 ,\n",
       "        107.64408286, 105.20647938],\n",
       "       ...,\n",
       "       [113.4519488 , 113.76120373, 114.4741194 , ...,          nan,\n",
       "         38.69575115,  39.10250382],\n",
       "       [108.98183187, 109.28296777, 107.64408286, ...,  38.69575115,\n",
       "                 nan,   2.45965014],\n",
       "       [106.56962077, 106.87041282, 105.20647938, ...,  39.10250382,\n",
       "          2.45965014,          nan]])"
      ]
     },
     "execution_count": 17,
     "metadata": {},
     "output_type": "execute_result"
    }
   ],
   "source": [
    "np.fill_diagonal(pairwise_distance_miles, np.NaN)\n",
    "pairwise_distance_miles"
   ]
  },
  {
   "cell_type": "code",
   "execution_count": 18,
   "id": "9edd40b435a84b3d",
   "metadata": {
    "ExecuteTime": {
     "end_time": "2025-09-30T23:47:05.765388Z",
     "start_time": "2025-09-30T23:47:05.757487Z"
    }
   },
   "outputs": [],
   "source": [
    "df[\"# of stores within 5 mile radius\"] = (pairwise_distance_miles < 5).sum(axis=1)\n"
   ]
  },
  {
   "cell_type": "code",
   "execution_count": 19,
   "id": "d83053d6b0c1351",
   "metadata": {
    "ExecuteTime": {
     "end_time": "2025-09-30T23:47:09.482564Z",
     "start_time": "2025-09-30T23:47:09.464115Z"
    }
   },
   "outputs": [],
   "source": [
    "df[\"Nearest other store (mi)\"] = pd.DataFrame(pairwise_distance_miles).min(axis=1, skipna=True).to_numpy()\n"
   ]
  },
  {
   "cell_type": "code",
   "execution_count": 20,
   "id": "fa96dc5f43a15b9e",
   "metadata": {
    "ExecuteTime": {
     "end_time": "2025-09-30T23:47:23.140115Z",
     "start_time": "2025-09-30T23:47:23.134395Z"
    }
   },
   "outputs": [
    {
     "data": {
      "text/html": [
       "<div>\n",
       "<style scoped>\n",
       "    .dataframe tbody tr th:only-of-type {\n",
       "        vertical-align: middle;\n",
       "    }\n",
       "\n",
       "    .dataframe tbody tr th {\n",
       "        vertical-align: top;\n",
       "    }\n",
       "\n",
       "    .dataframe thead th {\n",
       "        text-align: right;\n",
       "    }\n",
       "</style>\n",
       "<table border=\"1\" class=\"dataframe\">\n",
       "  <thead>\n",
       "    <tr style=\"text-align: right;\">\n",
       "      <th></th>\n",
       "      <th>store</th>\n",
       "      <th>lon</th>\n",
       "      <th>lat</th>\n",
       "      <th># of stores within 5 mile radius</th>\n",
       "      <th>Nearest other store (mi)</th>\n",
       "    </tr>\n",
       "  </thead>\n",
       "  <tbody>\n",
       "    <tr>\n",
       "      <th>0</th>\n",
       "      <td>4829</td>\n",
       "      <td>-1.633869</td>\n",
       "      <td>0.726157</td>\n",
       "      <td>87</td>\n",
       "      <td>0.310738</td>\n",
       "    </tr>\n",
       "    <tr>\n",
       "      <th>30</th>\n",
       "      <td>2190</td>\n",
       "      <td>-1.633974</td>\n",
       "      <td>0.726154</td>\n",
       "      <td>98</td>\n",
       "      <td>0.024184</td>\n",
       "    </tr>\n",
       "    <tr>\n",
       "      <th>80</th>\n",
       "      <td>2666</td>\n",
       "      <td>-1.634007</td>\n",
       "      <td>0.727885</td>\n",
       "      <td>63</td>\n",
       "      <td>0.140796</td>\n",
       "    </tr>\n",
       "    <tr>\n",
       "      <th>100</th>\n",
       "      <td>2699</td>\n",
       "      <td>-1.634040</td>\n",
       "      <td>0.727859</td>\n",
       "      <td>64</td>\n",
       "      <td>0.140796</td>\n",
       "    </tr>\n",
       "    <tr>\n",
       "      <th>118</th>\n",
       "      <td>6245</td>\n",
       "      <td>-1.633374</td>\n",
       "      <td>0.728359</td>\n",
       "      <td>46</td>\n",
       "      <td>0.043836</td>\n",
       "    </tr>\n",
       "    <tr>\n",
       "      <th>...</th>\n",
       "      <td>...</td>\n",
       "      <td>...</td>\n",
       "      <td>...</td>\n",
       "      <td>...</td>\n",
       "      <td>...</td>\n",
       "    </tr>\n",
       "    <tr>\n",
       "      <th>6839222</th>\n",
       "      <td>010647</td>\n",
       "      <td>-1.659711</td>\n",
       "      <td>0.757868</td>\n",
       "      <td>15</td>\n",
       "      <td>0.027613</td>\n",
       "    </tr>\n",
       "    <tr>\n",
       "      <th>6848633</th>\n",
       "      <td>010652</td>\n",
       "      <td>-1.635614</td>\n",
       "      <td>0.729061</td>\n",
       "      <td>6</td>\n",
       "      <td>0.018401</td>\n",
       "    </tr>\n",
       "    <tr>\n",
       "      <th>6852936</th>\n",
       "      <td>010639</td>\n",
       "      <td>-1.595679</td>\n",
       "      <td>0.724074</td>\n",
       "      <td>1</td>\n",
       "      <td>0.258425</td>\n",
       "    </tr>\n",
       "    <tr>\n",
       "      <th>6855968</th>\n",
       "      <td>010657</td>\n",
       "      <td>-1.598323</td>\n",
       "      <td>0.733647</td>\n",
       "      <td>68</td>\n",
       "      <td>0.020202</td>\n",
       "    </tr>\n",
       "    <tr>\n",
       "      <th>6856156</th>\n",
       "      <td>010656</td>\n",
       "      <td>-1.599158</td>\n",
       "      <td>0.733604</td>\n",
       "      <td>87</td>\n",
       "      <td>0.001540</td>\n",
       "    </tr>\n",
       "  </tbody>\n",
       "</table>\n",
       "<p>2383 rows × 5 columns</p>\n",
       "</div>"
      ],
      "text/plain": [
       "          store       lon       lat  # of stores within 5 mile radius  \\\n",
       "0          4829 -1.633869  0.726157                                87   \n",
       "30         2190 -1.633974  0.726154                                98   \n",
       "80         2666 -1.634007  0.727885                                63   \n",
       "100        2699 -1.634040  0.727859                                64   \n",
       "118        6245 -1.633374  0.728359                                46   \n",
       "...         ...       ...       ...                               ...   \n",
       "6839222  010647 -1.659711  0.757868                                15   \n",
       "6848633  010652 -1.635614  0.729061                                 6   \n",
       "6852936  010639 -1.595679  0.724074                                 1   \n",
       "6855968  010657 -1.598323  0.733647                                68   \n",
       "6856156  010656 -1.599158  0.733604                                87   \n",
       "\n",
       "         Nearest other store (mi)  \n",
       "0                        0.310738  \n",
       "30                       0.024184  \n",
       "80                       0.140796  \n",
       "100                      0.140796  \n",
       "118                      0.043836  \n",
       "...                           ...  \n",
       "6839222                  0.027613  \n",
       "6848633                  0.018401  \n",
       "6852936                  0.258425  \n",
       "6855968                  0.020202  \n",
       "6856156                  0.001540  \n",
       "\n",
       "[2383 rows x 5 columns]"
      ]
     },
     "execution_count": 20,
     "metadata": {},
     "output_type": "execute_result"
    }
   ],
   "source": [
    "df"
   ]
  },
  {
   "cell_type": "code",
   "execution_count": 21,
   "id": "fdff7007b6c92289",
   "metadata": {
    "ExecuteTime": {
     "end_time": "2025-09-30T23:47:55.083452Z",
     "start_time": "2025-09-30T23:47:55.061050Z"
    }
   },
   "outputs": [],
   "source": [
    "df.to_csv(\"proximity.csv\")"
   ]
  }
 ],
 "metadata": {
  "kernelspec": {
   "display_name": "Python 3",
   "language": "python",
   "name": "python3"
  },
  "language_info": {
   "codemirror_mode": {
    "name": "ipython",
    "version": 3
   },
   "file_extension": ".py",
   "mimetype": "text/x-python",
   "name": "python",
   "nbconvert_exporter": "python",
   "pygments_lexer": "ipython3",
   "version": "3.10.3"
  }
 },
 "nbformat": 4,
 "nbformat_minor": 5
}
